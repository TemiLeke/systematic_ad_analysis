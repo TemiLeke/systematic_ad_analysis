{
 "cells": [
  {
   "cell_type": "code",
   "execution_count": null,
   "id": "62042f97-a76e-4b34-805f-3f1ac81e7288",
   "metadata": {},
   "outputs": [],
   "source": [
    "import rpy2\n",
    "import scipy\n",
    "import logging\n",
    "import warnings\n",
    "import anndata2ri\n",
    "import pandas as pd\n",
    "import scanpy as sc\n",
    "import numpy as np\n",
    "import seaborn as sb\n",
    "import decoupler as dc\n",
    "import scrublet as scr\n",
    "import decoupler as dc\n",
    "from scipy import sparse\n",
    "from anndata import AnnData\n",
    "from tabnanny import verbose\n",
    "import matplotlib.pyplot as plt\n",
    "from gsva_prep import prep_gsva\n",
    "import rpy2.robjects as robjects\n",
    "from rpy2.robjects import pandas2ri\n",
    "from typing import Optional, Union\n",
    "from matplotlib.pyplot import rcParams\n",
    "from functions import pathway_analyses\n",
    "from statsmodels.stats.multitest import multipletests\n",
    "from sklearn.model_selection import train_test_split\n",
    "from pytorch_lightning.loggers import TensorBoardLogger\n",
    "from rpy2.robjects.conversion import localconverter"
   ]
  },
  {
   "cell_type": "code",
   "execution_count": null,
   "id": "c36a2bac",
   "metadata": {},
   "outputs": [],
   "source": [
    "def get_sys_dpi(width, height, diag):\n",
    "    '''\n",
    "    obtain dpi of system\n",
    "    \n",
    "    w: width in pixels (if unsure, go vist `whatismyscreenresolution.net`)\n",
    "    h: height in pixels\n",
    "    d: diagonal in inches\n",
    "    '''\n",
    "    w_inches = (diag**2/ (1 + height**2/width**2))**0.5\n",
    "    return round(width/w_inches)"
   ]
  },
  {
   "cell_type": "code",
   "execution_count": null,
   "id": "447b6d1c",
   "metadata": {},
   "outputs": [],
   "source": [
    "# # Ignore R warning messages\n",
    "#Note: this can be commented out to get more verbose R output\n",
    "rpy2.rinterface_lib.callbacks.logger.setLevel(logging.ERROR)\n",
    "\n",
    "# # Automatically convert rpy2 outputs to pandas dataframes\n",
    "# pandas2ri.activate()\n",
    "# anndata2ri.activate()\n",
    "# %load_ext rpy2.ipython\n",
    "\n",
    "warnings.filterwarnings(\"ignore\", category=PendingDeprecationWarning)\n",
    "warnings.filterwarnings(\"ignore\", category=UserWarning)\n",
    "warnings.filterwarnings(\"ignore\", category=FutureWarning)\n",
    "\n",
    "# Automatically convert rpy2 outputs to pandas dataframes\n",
    "pandas2ri.activate()\n",
    "anndata2ri.activate()\n",
    "%load_ext rpy2.ipython\n",
    "\n",
    "rcParams['figure.dpi'] = get_sys_dpi(1512, 982, 14.125)\n",
    "#rcParams['figure.figsize']=(4,4) #rescale figures\n",
    "\n",
    "sc.settings.verbosity = 3\n",
    "#sc.set_figure_params(dpi=200, dpi_save=300)\n",
    "sc.logging.print_versions()\n",
    "\n"
   ]
  },
  {
   "attachments": {},
   "cell_type": "markdown",
   "id": "10be21f0-000d-48d7-9e97-4051ec9da0bd",
   "metadata": {},
   "source": [
    "# **hdWGCNA in single-cell data**"
   ]
  },
  {
   "attachments": {},
   "cell_type": "markdown",
   "id": "0c5d2f8d",
   "metadata": {},
   "source": [
    "Here we use `hdWGCNA` to perform co-expression network analysis on single-cell data. \n",
    "\n",
    "`hdWGCNA` is an R package for performing `weighted gene co-expression network analysis (WGCNA)` in high dimensional transcriptomics data such as single-cell RNA-seq or spatial transcriptomics. hdWGCNA is highly modular and can construct co-expression networks across multi-scale cellular and spatial hierarchies. hdWGNCA identifies robust modules of inerconnected genes, and provides context for these modules through various biological knowledge sources. hdWGCNA requires data formatted as Seurat objects, one of the most ubiquitous formats for single-cell data. \n",
    "\n",
    "`Note: hdWGCNA is under active development, so you may run into errors and small typos. We welcome users to write GitHub issues to report bugs, ask for help, and to request potential enhancements.`\n",
    "\n",
    "Explore the full capabilites of hWGNA in the following publications:\n",
    "\n",
    "- [**Morabito et al. bioRxiv 2022**](https://www.biorxiv.org/content/10.1101/2022.09.22.509094v1)\n",
    "- [**Morabito & Miyoshi et al. Nature Genetics 2021**](https://www.nature.com/articles/s41588-021-00894-z)\n"
   ]
  },
  {
   "attachments": {},
   "cell_type": "markdown",
   "id": "1b4733e8",
   "metadata": {},
   "source": [
    "Here, apply hdWGCNA to the processed single-nucleus RNA-seq (snRNA-seq) datasets. These dataset have already been fully processed using a standard single-cell transcritpomics analysis pipelines (please see the following notebooks, `preprocessing_data_integration`, `preprocessing_quality_control`, `preprocessing_cluster_annotation`). \n",
    "\n",
    "\n",
    "If you would like to apply this notebook to your own dataset, you first need to satisfy the following prerequisites:\n",
    "\n",
    "A single-cell or single-nucleus transcriptomics dataset in Seurat format.\n",
    "Normalize the gene expression matrix NormalizeData.\n",
    "Identify highly variable genes VariableFeatures.\n",
    "Scale the normalized expression data ScaleData\n",
    "Perform dimensionality reduction RunPCA and batch correction if needed RunHarmony.\n",
    "Non-linear dimensionality reduction RunUMAP for visualizations.\n",
    "Group cells into clusters (FindNeighbors and FindClusters).\n",
    "An example of running the prerequisite data processing steps can be found in the Seurat Guided Clustering Tutorial.\n"
   ]
  },
  {
   "cell_type": "code",
   "execution_count": null,
   "id": "8b87d243",
   "metadata": {},
   "outputs": [],
   "source": [
    "%%R\n",
    "suppressPackageStartupMessages({\n",
    "    library(WGCNA)\n",
    "    library(Matrix)\n",
    "    library(viridis)\n",
    "    library(harmony)\n",
    "    library(ggpubr)\n",
    "    library(tictoc)\n",
    "    library(RColorBrewer)\n",
    "    library(Hmisc)\n",
    "    library(corrplot)\n",
    "    library(grid)\n",
    "    library(gridExtra)\n",
    "    library(igraph)\n",
    "    library(ggrepel)\n",
    "    library(readxl)\n",
    "    library(conflicted)\n",
    "\n",
    "\n",
    "\n",
    "    # single-cell analysis package\n",
    "    library(Seurat)\n",
    "\n",
    "    # plotting and data science packages\n",
    "    library(tidyverse)\n",
    "    library(cowplot)\n",
    "    library(patchwork)\n",
    "\n",
    "    # co-expression network analysis packages:\n",
    "    library(WGCNA)\n",
    "    library(hdWGCNA)\n",
    "\n",
    "    # gene enrichment packages\n",
    "    library(enrichR)\n",
    "    library(GeneOverlap)\n",
    "\n",
    "\n",
    "    library(GSEABase)\n",
    "    library(GSVA) \n",
    "# needs to be run every time you start R and want to use %>%\n",
    "})\n",
    "\n",
    "# using the cowplot theme for ggplot\n",
    "theme_set(theme_cowplot())\n",
    "\n",
    "# set random seed for reproducibility\n",
    "set.seed(12345)\n",
    "\n",
    "# optionally enable multithreading\n",
    "# enableWGCNAThreads(nThreads = 4)"
   ]
  },
  {
   "attachments": {},
   "cell_type": "markdown",
   "id": "af425574",
   "metadata": {},
   "source": [
    "## **Prepare data**\n",
    "\n",
    "Now, we load the preprocessed and annotated data for downstream analysis."
   ]
  },
  {
   "cell_type": "code",
   "execution_count": null,
   "id": "9697f83a",
   "metadata": {},
   "outputs": [],
   "source": [
    "save_prefix = 'leng_sfg'\n",
    "\n",
    "adata_annot = sc.read_h5ad(f'../data/raw/{save_prefix}/{save_prefix}_raw_anndata.h5ad')\n",
    "adata_annot.obs_names_make_unique()\n",
    "adata_annot.var_names_make_unique()\n",
    "\n",
    "try:\n",
    "    adata_annot.X = adata_annot.layers['counts'].copy()\n",
    "except KeyError:\n",
    "    print('\"counts\" not in layers...')\n",
    "    print('analysis requires unnormalized count data...')\n",
    "    print('analysis proceesing with data in \"adata.x\"...')\n",
    "    \n",
    "del adata_annot.obsm, adata_annot.layers, adata_annot.varm, adata_annot.uns, adata_annot.obsp\n",
    "\n",
    "print(adata_annot)"
   ]
  },
  {
   "cell_type": "code",
   "execution_count": null,
   "id": "d8504101",
   "metadata": {},
   "outputs": [],
   "source": [
    "get_cell_types = True # whether to  to obtain appropriate cell-type columns: True/False\n",
    "map_meta = True\n",
    "deg_method =  'DESeq2-Wald'\n",
    "test_names = ['late_vs_early', 'early_vs_no', 'late_vs_no', 'ad_vs_no']\n",
    "filter_genes = \"TRUE\"\n",
    "subject_ids_for_study = {'leng_sfg': 'PatientID',\n",
    "                        'leng_etc': 'PatientID',\n",
    "                        'seaad_mtg': 'individualID'}\n",
    "\n",
    "subject_id = subject_ids_for_study[save_prefix]     # for leng this is `PatientID` for mathys is 'Subject', and allen is 'individualID'\n",
    "gene_celltype_threshold = 0.10          # determines number of cells the gene must be expressed in \n",
    "covariates = ['None']                   # list of covariates to be accounted for in regression.\n",
    "gene_selection = 'custom'               # specifies the gene selection method when setting up seurat object for WGCNA. The th\n",
    "celltypes = [\"Excitatory\", \"Inhibitory\", \"Astrocyte\", \"Microglia\", \"Oligodendrocyte\", \"OPC\"]\n",
    "metadata = f'../data/raw/{save_prefix}/{save_prefix}_metadata.csv' \n",
    "meta = pd.read_csv(metadata, encoding_errors='ignore')\n",
    "\n",
    "gene_selection = 'custom'   # specifies the gene selection method when setting up seurat object for WGCNA. The th\n",
    "                            # Posible values are \"custom\", \"fraction\", \"variable\"\n",
    "                            # If custom, a list of genes must be passed.\n",
    "\n",
    "gene_set_select = 'diff_exp' # If gene_selection = 'custom'. This specifies how to obtain the list of\n",
    "                             # genes to pass into `SetupForWGCNA`. # The posible values are \"diff_exp\", \"overlap\", \"all\"\n"
   ]
  },
  {
   "cell_type": "code",
   "execution_count": null,
   "id": "6640b2ca",
   "metadata": {},
   "outputs": [],
   "source": [
    "\n",
    "mapping = {'leng_etc':\n",
    "           \n",
    "           {'Exc': 'Excitatory', \n",
    "            'Inh': 'Inhibitory', \n",
    "            'Astro': 'Astrocyte',\n",
    "            'Endo': 'Endothelial', \n",
    "            'Micro': 'Microglia', \n",
    "            'OPC': 'OPC', \n",
    "            'Oligo': 'Oligodendrocyte'},\n",
    "\n",
    "           'leng_sfg':\n",
    "           \n",
    "           {'Exc': 'Excitatory', \n",
    "            'Inh': 'Inhibitory', \n",
    "            'Astro': 'Astrocyte',\n",
    "            'Endo': 'Endothelial', \n",
    "            'Micro': 'Microglia', \n",
    "            'OPC': 'OPC', \n",
    "            'Oligo': 'Oligodendrocyte'},\n",
    "            \n",
    "            'seaad_mtg':\n",
    "           \n",
    "           {'Excitatory': 'Excitatory', \n",
    "            'Inhibitory': 'Inhibitory',\n",
    "            'Astrocyte': 'Astrocyte',\n",
    "            'Microglia': 'Microglia', \n",
    "            'Endothelial': 'Endothelial', \n",
    "            'OPC': 'OPC',\n",
    "            'Oligodendrocyte': 'Oligodendrocyte'},\n",
    "            }\n",
    "\n",
    "cell_column = {'leng_etc': 'clusterCellType',\n",
    "               'leng_sfg': 'clusterCellType',\n",
    "               'seaad_mtg': 'cell_type',\n",
    "               }"
   ]
  },
  {
   "cell_type": "code",
   "execution_count": null,
   "id": "fa49b63c",
   "metadata": {},
   "outputs": [],
   "source": [
    "if get_cell_types:\n",
    "    adata_annot.obs['cell_type'] = adata_annot.obs[cell_column[save_prefix]].map(mapping[save_prefix])"
   ]
  },
  {
   "cell_type": "code",
   "execution_count": null,
   "id": "3888c7a2",
   "metadata": {},
   "outputs": [],
   "source": [
    "# map the pathology group to teh subject id in .obs\n",
    "adata_annot = adata_annot[adata_annot.obs.cell_type.isin(celltypes)]\n",
    "adata_annot.obs['pathology.group'] = adata_annot.obs[subject_id].map(dict(zip(meta[subject_id].astype(str), meta['pathology.group'])))"
   ]
  },
  {
   "cell_type": "code",
   "execution_count": null,
   "id": "839f795a",
   "metadata": {},
   "outputs": [],
   "source": [
    "%%R -i adata_annot -i subject_id -i gene_celltype_threshold -i celltypes -i test_names -i save_prefix -i gene_selection\n",
    "\n",
    "print(adata_annot)\n",
    "print('loaded data into memory for recursive use')"
   ]
  },
  {
   "cell_type": "code",
   "execution_count": null,
   "id": "74c5d20a",
   "metadata": {},
   "outputs": [],
   "source": [
    "del adata_annot"
   ]
  },
  {
   "attachments": {},
   "cell_type": "markdown",
   "id": "8a3955a2",
   "metadata": {},
   "source": [
    "## **Set up Seurat object for WGCNA**"
   ]
  },
  {
   "attachments": {},
   "cell_type": "markdown",
   "id": "2d154d2e",
   "metadata": {},
   "source": [
    "Before running hdWGCNA, we first have to set up the Seurat object. Most of the information computed by hdWGCNA is stored in the Seurat object’s `@misc slot`. \n",
    "\n",
    "The `SetupForWGCNA` function selects the genes that will be used for WGCNA using three different approaches using the `gene_select` parameter:\n",
    "\n",
    "- `variable`: use the genes stored in the Seurat object’s `VariableFeatures`.\n",
    "\n",
    "- `fraction`: use genes that are expressed in a certain fraction of cells for in the whole dataset or in each group of cells, specified by group.by.\n",
    "\n",
    "- `custom`: use genes that are specified in a custom list."
   ]
  },
  {
   "attachments": {},
   "cell_type": "markdown",
   "id": "3e7607cd",
   "metadata": {},
   "source": [
    "For our specific case, the `gene_selection` parameter is set to `custom`, we employ the genes present in all the overlapping pathways in a cell type-specific and study-specific manner.\n",
    "\n",
    "To accomplish this, we load the list of overlapping pathways that was previously saved in `../results/{test_name}/{test_name}_pathway_overlap.csv` from the `pathway_meta_analysis.ipynb` notebook. Additionally, we load the genes from the `.gmt` file saved in `../results/gsva/{study}/{cur_celltype}/gs.gmt` from the `pathway_analysis.ipynb` notebook."
   ]
  },
  {
   "attachments": {},
   "cell_type": "markdown",
   "id": "c4ddf8bf",
   "metadata": {},
   "source": [
    "##### **Select Gene Set**"
   ]
  },
  {
   "attachments": {},
   "cell_type": "markdown",
   "id": "7234ec55",
   "metadata": {},
   "source": [
    "To obtain the gene sets required for the `SetupForWGCNA` function, we consider the `gene_set_select` variable when `gene_select` is set to `custom`. The `gene_set_select` variable determines how the `gene_list` passed into the `SetupForWGCNA` function will be obtained. \n",
    "\n",
    "There are three options available:\n",
    "\n",
    "- `diff_exp`: This option utilizes the genes present in the differentially expressed pathways, previously computed and saved to the `../results/{test_name}/{save_prefix}_differentially_expressed_pathways.csv` file.\n",
    "\n",
    "- `overlap`: Here, the genes used are those expressed in pathways that overlap across different studies. The pathway overlap information is retrieved from the `../results/{test_name}/{test_name}_pathway_overlap.csv` file.\n",
    "\n",
    "- `all`: With this option, all genes in the pathways stored in the `../results/gsva/{save_prefix}/{celltype}/gs.gmt` file are included.\n",
    "\n",
    "Here, we specifically set `gene_select=custom` and `gene_set_select = diff_exp`. However, you can customize the gene selection process for your hdWGCNA experiment.\n"
   ]
  },
  {
   "cell_type": "code",
   "execution_count": null,
   "id": "703041ee",
   "metadata": {},
   "outputs": [],
   "source": [
    "%%R -o geneSets -i gene_set_select\n",
    "\n",
    "# iterate over celltypes and obtain \n",
    "geneSets <- list()\n",
    "for(test_name in test_names){\n",
    "\n",
    "  geneSets[[test_name]] <- list()\n",
    "  for (cur_celltype in celltypes){\n",
    "    # get gene sets\n",
    "    geneSets[[test_name]][[cur_celltype]] <- getGmt(file.path('../results/gsva/', save_prefix, '/', cur_celltype, 'gs.gmt'))\n",
    "    geneSets[[test_name]][[cur_celltype]] <- geneIds(geneSets[[test_name]][[cur_celltype]])\n",
    "\n",
    "    if (gene_set_select=='overlap'){\n",
    "      pathways <- read.csv(paste0('../results/',test_name, '/', test_name, '_pathway_overlap.csv'))\n",
    "      pathways <- pathways$pathway\n",
    "    }else if (gene_set_select=='diff_exp'){\n",
    "      pathways <- read.csv(paste0('../results/', test_name, '/', save_prefix, '/Data/differentially_expressed_pathways.csv'))\n",
    "      pathways <- subset(pathways, P.Value < 0.05 & celltype == cur_celltype)$pathway\n",
    "    }else if (gene_set_select=='all'){\n",
    "      pathways <- names(geneSets[[test_name]][[cur_celltype]])\n",
    "    }\n",
    "\n",
    "    geneSets[[test_name]][[cur_celltype]] <-  geneSets[[test_name]][[cur_celltype]][names(geneSets[[test_name]][[cur_celltype]]) %in% pathways]\n",
    "    geneSets[[test_name]][[cur_celltype]] <- unique(unlist(geneSets[[test_name]][[cur_celltype]], recursive = FALSE))\n",
    "\n",
    "    print(length(geneSets[[test_name]][[cur_celltype]]))\n",
    "  }\n",
    "}"
   ]
  },
  {
   "cell_type": "code",
   "execution_count": null,
   "id": "f2d4d1b1",
   "metadata": {},
   "outputs": [],
   "source": [
    "# convert nested list of geneSets object into Rpy2 object \n",
    "\n",
    "geneSets =  robjects.ListVector(\n",
    "                        {\n",
    "                            test_name: robjects.ListVector(\n",
    "                                    {cell_type: geneSets[test_name][cell_type]\n",
    "                                                 \n",
    "                                    for cell_type in celltypes\n",
    "                                    }\n",
    "                                )\n",
    "                            for test_name in test_names\n",
    "                        }\n",
    "\n",
    "                        )"
   ]
  },
  {
   "cell_type": "code",
   "execution_count": null,
   "id": "845fa1c5",
   "metadata": {},
   "outputs": [],
   "source": [
    "%%R -i geneSets\n",
    "\n",
    "seurat_obj <- as.Seurat(adata_annot, counts = \"X\", data = \"X\")\n",
    "\n",
    "print(seurat_obj)\n",
    "\n",
    "# Perform dimensionality reduction and plot\n",
    "\n",
    "seurat_obj <- FindVariableFeatures(seurat_obj)\n",
    "seurat_obj <- ScaleData(seurat_obj)\n",
    "seurat_obj <- RunPCA(seurat_obj)\n",
    "seurat_obj <- RunHarmony(seurat_obj, group.by.vars = subject_id)\n",
    "seurat_obj <- RunUMAP(seurat_obj, reduction='harmony', n.neighbors=15, dims=1:30, min.dist=0.1)\n",
    "\n",
    "p <- DimPlot(seurat_obj, group.by = \"cell_type\", label = TRUE) +\n",
    "     umap_theme() + ggtitle(\"leng\") + NoLegend()\n",
    "\n",
    "fig_dir = paste0(\"../results/hdWGCNA/UMAP/\")\n",
    "\n",
    "if (!dir.exists(fig_dir)) {\n",
    "  dir.create(fig_dir, recursive=TRUE)\n",
    "}\n",
    "\n",
    "# Save plot to PDF\n",
    "pdf(file = paste0(fig_dir, save_prefix, \"_integrated_umap.pdf\"), width = 4, height = 4, useDingbats = FALSE)\n",
    "print(p)\n",
    "dev.off()\n",
    "\n",
    "# create a hdWGCNA experiment for each celltype\n",
    "seurat_dat <- seurat_obj\n",
    "seurat_obj <- list()\n",
    "\n",
    "\n",
    "for (cur_cell_type in celltypes){\n",
    "\n",
    "  seurat_obj[[cur_cell_type]] <- subset(seurat_dat, cell_type == cur_cell_type)\n",
    "\n",
    "  print(paste0('Creating hdWGNA Experiment for ', toupper(cur_cell_type)))\n",
    "\n",
    "  if (gene_selection == 'custom') {\n",
    "    seurat_obj[[cur_cell_type]] <- SetupForWGCNA(\n",
    "      seurat_obj[[cur_cell_type]],\n",
    "      gene_select = \"custom\",                                            # the gene selection approach\n",
    "      gene_list = as.vector(geneSets[['ad_vs_no']][[cur_cell_type]]),    # list of genes to be included\n",
    "      group.by = 'cell_type',                                            # grouping parameter\n",
    "      wgcna_name = toupper(substr(cur_cell_type, 1, 3))                  # the name of the hdWGCNA experiment\n",
    "    )\n",
    "  } else {\n",
    "    seurat_obj[[cur_cell_type]] <- SetupForWGCNA(\n",
    "      seurat_obj[[cur_cell_type]],\n",
    "      gene_select = \"fraction\",                               # the gene selection approach\n",
    "      fraction = gene_celltype_threshold,                     # fraction of cells for gene inclusion\n",
    "      group.by = 'cell_type',                                 # grouping parameter\n",
    "      wgcna_name = toupper(substr(cur_cell_type, 1, 3))       # the name of the hdWGCNA experiment\n",
    "    )\n",
    "  }\n",
    "\n",
    "  print(seurat_obj[[cur_cell_type]])\n",
    "  print(paste0(length(GetWGCNAGenes(seurat_obj[[cur_cell_type]])), \" WGCNA Genes\"))\n",
    "\n",
    "}\n",
    "\n",
    "rm(seurat_dat)\n",
    "rm(adata_annot)"
   ]
  },
  {
   "attachments": {},
   "cell_type": "markdown",
   "id": "ccd0e590",
   "metadata": {},
   "source": [
    "## **Construct metacells**"
   ]
  },
  {
   "attachments": {},
   "cell_type": "markdown",
   "id": "07813598",
   "metadata": {},
   "source": [
    "In the hdWGCNA pipeline, the initial step involves constructing metacells from a single-cell dataset using the `MetacellsByGroups` function, which aggregates similar cells using the `k-Nearest Neighbors` algorithm. This process is essential for reducing the sparsity of the gene expression matrix and involves grouping by specific parameters like `Sample` and `cell_type` to ensure metacells originate from the same biological sample. The function allows tuning of the number of cells aggregated (k) and the maximum shared overlap, with a min_cells parameter to exclude small groups, thereby optimizing the construction of a metacell expression matrix for subsequent analysis."
   ]
  },
  {
   "cell_type": "code",
   "execution_count": null,
   "id": "e92860fa",
   "metadata": {},
   "outputs": [],
   "source": [
    "%%R\n",
    "\n",
    "# construct metacells in each group for each wgnca experiment\n",
    "\n",
    "for (cell_type in celltypes){\n",
    "\n",
    "  print(paste0('Constructing MetaCells in hdWGCNA Experiment for ', toupper(cell_type)))\n",
    "  \n",
    "  seurat_obj[[cell_type]] <- MetacellsByGroups(\n",
    "      \n",
    "    seurat_obj = seurat_obj[[cell_type]],\n",
    "    group.by = c(\"cell_type\", subject_id), # specify the columns in seurat_obj@meta.data to group by\n",
    "    reduction = 'harmony',  # select the dimensionality reduction to perform KNN on\n",
    "    k = 25, # nearest-neighbors parameter\n",
    "    max_shared = 10, # maximum number of shared cells between two metacells\n",
    "    ident.group = 'cell_type', # set the Idents of the metacell seurat object\n",
    "    wgcna_name = toupper(substr(cell_type, 1, 3)),        # the name of the hdWGCNA experiment\n",
    "    )\n",
    "\n",
    "    # normalize metacell expression matrix:\n",
    "  seurat_obj[[cell_type]] <- NormalizeMetacells(seurat_obj[[cell_type]],  wgcna_name = toupper(substr(cell_type, 1, 3)))\n",
    "}\n"
   ]
  },
  {
   "attachments": {},
   "cell_type": "markdown",
   "id": "fac55be8",
   "metadata": {},
   "source": [
    "## **Co-expression network analysis**"
   ]
  },
  {
   "attachments": {},
   "cell_type": "markdown",
   "id": "f03072ae",
   "metadata": {},
   "source": [
    "### **Set up the expression matrix**\n",
    "\n",
    "the `SetDatExpr` function is used to set up the expression matrix for network analysis, involving subsetting the data to include only a specific cell type per run. By default, the metacell expression matrix is utilized `(use_metacells=TRUE)`, though the option to use the single-cell expression matrix is available. This function also allows users to choose the source slot for the expression matrix, accommodating different normalization methods like SCTransform or NormalizeData."
   ]
  },
  {
   "cell_type": "code",
   "execution_count": null,
   "id": "7830296b",
   "metadata": {},
   "outputs": [],
   "source": [
    "%%R\n",
    "\n",
    "for (cell_type in celltypes){\n",
    "\n",
    "    print(paste0('Setting up expression matrix in hdWGCNA Experiment for ', toupper(cell_type)))\n",
    "\n",
    "    seurat_obj[[cell_type]] <- SetDatExpr(\n",
    "      seurat_obj[[cell_type]],\n",
    "      group_name = cell_type, # the name of the group of interest in the group.by column\n",
    "      group.by = 'cell_type', # the metadata column containing the cell type info. This same column should have also been used in MetacellsByGroups\n",
    "      assay = 'originalexp', # using RNA assay\n",
    "      slot = 'data', # using normalized data\n",
    "      wgcna_name = toupper(substr(cell_type, 1, 3)) # the name of the hdWGCNA experiment\n",
    "    )\n",
    "}"
   ]
  },
  {
   "attachments": {},
   "cell_type": "markdown",
   "id": "a70cc5c4",
   "metadata": {},
   "source": [
    "### **Select soft-power threshold**\n",
    "\n",
    "Next we will select the “soft power threshold”. Selecting the `soft power threshold` is a crucial step, as it influences the construction of the gene-gene correlation adjacency matrix used to infer co-expression relationships between genes. The `TestSoftPowers` function is employed to conduct a parameter sweep for various soft power thresholds, aiding in choosing an appropriate value to ensure the co-expression network approximates a scale-free topology. Additionally, the `PlotSoftPowers`` function is used to visually represent the outcomes of this parameter sweep, to assess the network's structure at different thresholds."
   ]
  },
  {
   "cell_type": "code",
   "execution_count": null,
   "id": "e63133c6",
   "metadata": {},
   "outputs": [],
   "source": [
    "%%R\n",
    "\n",
    "fig_dir = paste0(\"../results/hdWGCNA/SoftPower/\", save_prefix, '/')\n",
    "\n",
    "if (!dir.exists(fig_dir)) {\n",
    "  dir.create(fig_dir, recursive=TRUE)\n",
    "}\n",
    "\n",
    "\n",
    "for (cell_type in celltypes){\n",
    "  \n",
    "  print(paste0('Estinmating Soft-Power Threshold in hdWGCNA Experiment for ', toupper(cell_type)))\n",
    "\n",
    "  # Test different soft powers:\n",
    "  seurat_obj[[cell_type]] <- TestSoftPowers(\n",
    "    seurat_obj[[cell_type]],\n",
    "    networkType = 'signed', # you can also use \"unsigned\" or \"signed hybrid\"\n",
    "    setDatExpr = TRUE,\n",
    "    group.by = 'cell_type',\n",
    "    group_name = cell_type,\n",
    "  )\n",
    "\n",
    "  # plot the results:\n",
    "  plot_list <- PlotSoftPowers(seurat_obj[[cell_type]], \n",
    "                              # wgcna_name = toupper(substr(cell_type, 1, 3)) # the name of the hdWGCNA experiment\n",
    "                              )\n",
    "\n",
    "  # assemble with patchwork\n",
    "  pdf(paste0(fig_dir, cell_type, '_SoftPower.pdf'), width=12, height=8)\n",
    "  print(wrap_plots(plot_list, ncol=2))\n",
    "  dev.off()\n",
    "}\n",
    "\n"
   ]
  },
  {
   "attachments": {},
   "cell_type": "markdown",
   "id": "2ad0b902",
   "metadata": {},
   "source": [
    "For WGCNA and hdWGCNA, the recommended approach is to choose the lowest soft power threshold that achieves a Scale Free Topology Model Fit of 0.8 or higher. If not manually specified, the ConstructNetwork function will automatically select an appropriate soft power threshold during the network construction process."
   ]
  },
  {
   "attachments": {},
   "cell_type": "markdown",
   "id": "7c6251e4",
   "metadata": {},
   "source": [
    "### **Construct co-expression network**\n",
    "\n",
    "We now have everything that we need to construct our co-expression network. Here we use the hdWGCNA function `ConstructNetwork`, which internally utilizes the `WGCNA` function `blockwiseConsensusModules`. While this function offers numerous parameters for advanced customization, default settings are generally effective for many single-cell datasets. Parameters for blockwiseConsensusModules can be directly passed to ConstructNetwork using the same names, allowing for the construction of the co-expression network based on the previously selected soft power threshold."
   ]
  },
  {
   "cell_type": "code",
   "execution_count": null,
   "id": "14831950",
   "metadata": {},
   "outputs": [],
   "source": [
    "%%R\n",
    "\n",
    "  \n",
    "tom_outdir <-  paste0('../results/hdWGCNA/TOM/', save_prefix, '/')\n",
    "\n",
    "# make output dir for the TOM\n",
    "if(!dir.exists(tom_outdir)){\n",
    "  dir.create(tom_outdir, recursive=TRUE)\n",
    "}\n",
    "\n",
    "for (cell_type in celltypes) {\n",
    "\n",
    "  print(paste0('Constructing co-expression network in hdWGCNA Experiment for ', toupper(cell_type)))\n",
    "  \n",
    "  tryCatch({\n",
    "    # construct co-expression network:\n",
    "    seurat_obj[[cell_type]] <- ConstructNetwork(\n",
    "      seurat_obj[[cell_type]], \n",
    "      soft_power = NULL, # Set to NULL so that the ConstructNetwork function obtains it automatically (Scale Free Topology Model Fit >= 0.8)\n",
    "      setDatExpr = FALSE,\n",
    "      overwrite_tom = TRUE,\n",
    "      tom_outdir = tom_outdir,\n",
    "      tom_name = toupper(substr(cell_type, 1, 3)) # name of the topological overlap matrix written to disk set as the name of the hdWGCNA experiment \n",
    "    )\n",
    "  }, error = function(e) {\n",
    "    print(paste0('Error encountered while processing ', toupper(cell_type)))\n",
    "    print(paste0(toupper(cell_type), ' dropped from experiment'))\n",
    "    # Code to handle the error condition\n",
    "    seurat_obj <- seurat_obj[names(seurat_obj) != cell_type]\n",
    "    assign(\"seurat_obj\", seurat_obj, envir = .GlobalEnv) # Update the modified seurat_obj in the global environment\n",
    "\n",
    "  },  \n",
    "  message = function(m) {\n",
    "    print(paste0('Error encountered while processing ', toupper(cell_type)))\n",
    "    print(paste0(toupper(cell_type), ' dropped from experiment'))\n",
    "    # Code to handle the error condition\n",
    "    seurat_obj <- seurat_obj[names(seurat_obj) != cell_type]\n",
    "    assign(\"seurat_obj\", seurat_obj, envir = .GlobalEnv) # Update the modified seurat_obj in the global environment\n",
    "\n",
    "  }) \n",
    "  \n",
    "}\n",
    "\n",
    "\n",
    "print(names(seurat_obj))\n"
   ]
  },
  {
   "attachments": {},
   "cell_type": "markdown",
   "id": "49676183",
   "metadata": {},
   "source": [
    "hdWGCNA also includes a function PlotDendrogram function for visualizing the WGCNA dendrogram, a standard method to display the various co-expression modules derived from network analysis. In this dendrogram, each leaf represents a gene, with colors indicating their module assignments. `Notably, genes in the \"grey\" module, which were not grouped into any specific co-expression module, should be excluded from all subsequent analyses and interpretations.`"
   ]
  },
  {
   "cell_type": "code",
   "execution_count": null,
   "id": "8da7dcca",
   "metadata": {},
   "outputs": [],
   "source": [
    "%%R\n",
    "\n",
    "fig_dir = paste0(\"../results/hdWGCNA/dendrogram/\", save_prefix, '/')\n",
    "\n",
    "if (!dir.exists(fig_dir)) {\n",
    "  dir.create(fig_dir, recursive=TRUE)\n",
    "}\n",
    "\n",
    "tryCatch({\n",
    "    for (cell_type in names(seurat_obj)){\n",
    "        # print(paste0('Constructing co-expression networkd in hdWGCNA Experiment for ', toupper(cell_type)))\n",
    "        pdf(paste0(fig_dir, cell_type, \"_dendro.pdf\"), height=2, width=4)\n",
    "        PlotDendrogram(seurat_obj[[cell_type]], main='hdWGCNA Dendrogram')\n",
    "        dev.off()\n",
    "    }\n",
    "}, error = function(e){\n",
    "    NULL\n",
    "})"
   ]
  },
  {
   "attachments": {},
   "cell_type": "markdown",
   "id": "5e1c23ce",
   "metadata": {},
   "source": [
    "### **Module Eigengenes and Connectivity**"
   ]
  },
  {
   "attachments": {},
   "cell_type": "markdown",
   "id": "08779263",
   "metadata": {},
   "source": [
    "### Compute harmonized module eigengenes\n",
    "\n",
    "`Module Eigengenes (MEs)` summarize the gene expression profile of co-expression modules in hdWGCNA, calculated by performing principal component analysis (PCA) on each module's subset of the gene expression matrix, with the first principal component as the ME. Given that single-cell data is sensitive to technical artifacts, hdWGCNA's ModuleEigengenes function not only computes MEs but also offers Harmony batch correction to produce `harmonized module eigengenes (hMEs)`. This harmonization is executed with a focus on the sample of origin, as specified by the `group.by.vars` parameter."
   ]
  },
  {
   "cell_type": "code",
   "execution_count": null,
   "id": "df854ccb",
   "metadata": {},
   "outputs": [],
   "source": [
    "%%R\n",
    "\n",
    "for (cell_type in names(seurat_obj)){\n",
    "\n",
    "    modules <- GetModules(seurat_obj[[cell_type]])\n",
    "\n",
    "    if (!(length(unique(modules$module))<=2 &  'grey'%in%modules$module)){\n",
    "\n",
    "        print(paste0('Estimating module eigen-genes in hdWGCNA Experiment for ', toupper(cell_type)))\n",
    "        \n",
    "        # fneed to run ScaleData first or else harmony throws an error:\n",
    "        seurat_obj[[cell_type]] <- ScaleData(seurat_obj[[cell_type]], features=VariableFeatures(seurat_obj[[cell_type]]))\n",
    "\n",
    "        # compute all MEs in the full single-cell dataset\n",
    "        seurat_obj[[cell_type]] <- ModuleEigengenes(\n",
    "        seurat_obj[[cell_type]],\n",
    "        group.by.vars=subject_id\n",
    "        )\n",
    "        print('----------------')\n",
    "\n",
    "    }   else{    \n",
    "\n",
    "        print(paste0('Error encountered while processing ', toupper(cell_type)))\n",
    "        print(paste0(toupper(cell_type), ' dropped from experiment'))\n",
    "        # Code to handle the error condition\n",
    "        seurat_obj <- seurat_obj[names(seurat_obj) != cell_type]\n",
    "        assign(\"seurat_obj\", seurat_obj, envir = .GlobalEnv) # Update the modified seurat_obj in the global environment\n",
    "\n",
    "    } \n",
    "    \n",
    "}"
   ]
  },
  {
   "attachments": {},
   "cell_type": "markdown",
   "id": "05cd78cf",
   "metadata": {},
   "source": [
    "The ME matrices are stored as a matrix where each row is a cell and each column is a module. This matrix can be extracted from the Seurat object using the GetMEs function, which retrieves the hMEs by default."
   ]
  },
  {
   "cell_type": "code",
   "execution_count": null,
   "id": "93840f67",
   "metadata": {},
   "outputs": [],
   "source": [
    "%%R -o hMEs -o MEs\n",
    "\n",
    "hMEs <- list()\n",
    "MEs <- list()\n",
    "\n",
    "for (cell_type in names(seurat_obj)){\n",
    "    print(paste0('Getting harmonized and non-harmonized MEs in hdWGCNA Experiment for ', toupper(cell_type)))\n",
    "    \n",
    "    # harmonized module eigengenes:\n",
    "    hMEs[[cell_type]] <- GetMEs(seurat_obj[[cell_type]])\n",
    "\n",
    "    # module eigengenes:\n",
    "    MEs[[cell_type]] <- GetMEs(seurat_obj[[cell_type]], harmonized=FALSE)\n",
    "}"
   ]
  },
  {
   "attachments": {},
   "cell_type": "markdown",
   "id": "c011bbb2",
   "metadata": {},
   "source": [
    "### **Compute module connectivity**"
   ]
  },
  {
   "attachments": {},
   "cell_type": "markdown",
   "id": "e9f2e4ad",
   "metadata": {},
   "source": [
    "We want to focus on `hub genes`, which are highly connected within each module. To assess this, hdWGCNA includes the `ModuleConnectivity` function to calculate the `eigengene-based connectivity (kME)` of each gene in the full single-cell data. This function computes pairwise correlations between genes and module eigengenes. While kME can be calculated for all cells, it is recommended to compute it specifically in the cell type or group initially used in the ConstructNetwork function."
   ]
  },
  {
   "cell_type": "code",
   "execution_count": null,
   "id": "9ebaef5b",
   "metadata": {},
   "outputs": [],
   "source": [
    "%%R\n",
    "\n",
    "for (cell_type in names(seurat_obj)){\n",
    "\n",
    "  print(paste0('Estimating module connectivity in hdWGCNA Experiment for ', toupper(cell_type)))\n",
    "\n",
    "  # compute eigengene-based connectivity (kME):\n",
    "  seurat_obj[[cell_type]] <- ModuleConnectivity(\n",
    "    seurat_obj[[cell_type]],\n",
    "    group.by = 'cell_type', \n",
    "    group_name = cell_type\n",
    "  )\n",
    "  \n",
    "}"
   ]
  },
  {
   "attachments": {},
   "cell_type": "markdown",
   "id": "95b46026",
   "metadata": {},
   "source": [
    "For convenience, we re-name the hdWGCNA modules to indicate that they are from a cell-type group."
   ]
  },
  {
   "cell_type": "code",
   "execution_count": null,
   "id": "a52dff32",
   "metadata": {},
   "outputs": [],
   "source": [
    "%%R\n",
    "\n",
    "for (cell_type in names(seurat_obj)){\n",
    "\n",
    "  print(paste0('Renaming modules in hdWGCNA Experiment for ', toupper(cell_type)))\n",
    "\n",
    "  # rename the modules\n",
    "  seurat_obj[[cell_type]] <- ResetModuleNames(\n",
    "    seurat_obj[[cell_type]],\n",
    "    new_name = paste0(toupper(substr(cell_type, 1, 3)), \"-M\"),\n",
    "    wgcna_name = toupper(substr(cell_type, 1, 3)) # the name of the hdWGCNA experiment,\n",
    "  )\n",
    "}"
   ]
  },
  {
   "attachments": {},
   "cell_type": "markdown",
   "id": "88ad5a62",
   "metadata": {},
   "source": [
    "We also reset module colors"
   ]
  },
  {
   "cell_type": "code",
   "execution_count": null,
   "id": "5e7726f3",
   "metadata": {},
   "outputs": [],
   "source": [
    "%%R\n",
    "\n",
    "\n",
    "library(MetBrewer)\n",
    "\n",
    "for (cell_type in names(seurat_obj)){\n",
    "\n",
    "  print(paste0('Resetting module colors in hdWGCNA Experiment for ', toupper(cell_type)))\n",
    "\n",
    "\n",
    "  modules <- GetModules(seurat_obj[[cell_type]])\n",
    "  mods <- levels(modules$module)\n",
    "  mod_colors <- dplyr::select(modules, c(module, color)) %>%\n",
    "    distinct %>% arrange(module) %>% .$color\n",
    "  n_colors <- length(mod_colors) -1\n",
    "\n",
    "  new_colors <- paste0(met.brewer(\"Signac\", n=n_colors,))\n",
    "  new_colors <- sample(new_colors)\n",
    "  seurat_obj[[cell_type]] <- ResetModuleColors(seurat_obj[[cell_type]], new_colors)\n",
    "\n",
    "}\n"
   ]
  },
  {
   "attachments": {},
   "cell_type": "markdown",
   "id": "ae334b97",
   "metadata": {},
   "source": [
    "We can visualize the genes in each module ranked by kME using the PlotKMEs function."
   ]
  },
  {
   "cell_type": "code",
   "execution_count": null,
   "id": "03423498",
   "metadata": {},
   "outputs": [],
   "source": [
    "%%R\n",
    "\n",
    "library(conflicted)\n",
    "conflicts_prefer(dplyr::select)\n",
    "\n",
    "fig_dir = paste0(\"../results/hdWGCNA/ModuleConnectivity/\", save_prefix, '/')\n",
    "\n",
    "if (!dir.exists(fig_dir)) {\n",
    "  dir.create(fig_dir, recursive=TRUE)\n",
    "}\n",
    "\n",
    "for (cell_type in names(seurat_obj)){\n",
    "    \n",
    "    print(paste0('Visualize Module Connectivity (kMEs) in hdWGCNA Experiment for ', toupper(cell_type)))\n",
    "\n",
    "    # plot genes ranked by kME for each module\n",
    "\n",
    "    p <- PlotKMEs(seurat_obj[[cell_type]], ncol=5)\n",
    "\n",
    "    pdf(paste0(fig_dir, cell_type, '_KMEs.pdf'), width=12, height=8)\n",
    "    print(p)\n",
    "    dev.off()\n",
    "}"
   ]
  },
  {
   "attachments": {},
   "cell_type": "markdown",
   "id": "b8d0658b",
   "metadata": {},
   "source": [
    "### Getting the module assignment table\n",
    "\n",
    "The hdWGCNA package provides the `GetModules` function for convenient access to the module assignment table. This table includes three primary columns: gene_name for the gene symbol or ID, module for the gene's module assignment, and color for the color mapping of each module, which is frequently used in downstream plotting. Additionally, if ModuleConnectivity has been used in the hdWGCNA experiment, the table will feature extra columns showing the kME values for each module."
   ]
  },
  {
   "cell_type": "code",
   "execution_count": null,
   "id": "9121be04",
   "metadata": {},
   "outputs": [],
   "source": [
    "%%R\n",
    "\n",
    "for (cell_type in names(seurat_obj)){\n",
    "    \n",
    "    print(paste0('Obtain Module Assignment Table in hdWGCNA Experiment for ', toupper(cell_type)))\n",
    "\n",
    "    # get the module assignment table:\n",
    "    modules <- GetModules(seurat_obj[[cell_type]])\n",
    "\n",
    "    # show the first 6 columns:\n",
    "    print(head(modules[,1:6]))\n",
    "}"
   ]
  },
  {
   "attachments": {},
   "cell_type": "markdown",
   "id": "48d2e707",
   "metadata": {},
   "source": [
    "A table of the top N hub genes sorted by kME can be extracted using the GetHubGenes function."
   ]
  },
  {
   "cell_type": "code",
   "execution_count": null,
   "id": "3a0b8898",
   "metadata": {},
   "outputs": [],
   "source": [
    "%%R\n",
    "\n",
    "for (cell_type in names(seurat_obj)){\n",
    "    \n",
    "    print(paste0('Obtain Hub Genes in hdWGCNA Experiment for ', toupper(cell_type)))\n",
    "\n",
    "    # get hub genes\n",
    "    hub_df <- GetHubGenes(seurat_obj[[cell_type]], n_hubs = 10)\n",
    "\n",
    "    print(head(hub_df))\n",
    "}"
   ]
  },
  {
   "attachments": {},
   "cell_type": "markdown",
   "id": "27f2d80d",
   "metadata": {},
   "source": [
    "## **Compute hub gene signature scores**\n",
    "\n",
    "Gene scoring analysis is a popular method in single-cell transcriptomics for computing a score for the overall signature of a set of genes.\n",
    "\n",
    "hdWGCNA offers the `ModuleExprScore` function, which computes gene scores for a specified number of genes in each module, employing either the Seurat or UCell algorithm. This gene scoring method serves as an alternative to summarizing module expression, differing from the approach of computing module eigengenes."
   ]
  },
  {
   "cell_type": "code",
   "execution_count": null,
   "id": "e1f93a8a",
   "metadata": {},
   "outputs": [],
   "source": [
    "%%R \n",
    "\n",
    "for (cell_type in names(seurat_obj)){\n",
    "    \n",
    "  print(paste0('Compute hub gene scores in hdWGCNA Experiment for ', toupper(cell_type)))\n",
    "    \n",
    "  # compute gene scoring for the top 25 hub genes by kME for each module\n",
    "  # with Seurat method\n",
    "  # seurat_obj[[cell_type]] <- ModuleExprScore(\n",
    "  #   seurat_obj[[cell_type]],\n",
    "  #   n_genes = 25,\n",
    "  #   method='Seurat'\n",
    "  # )\n",
    "\n",
    "  # compute gene scoring for the top 25 hub genes by kME for each module\n",
    "  # with UCell method\n",
    "  library(UCell)\n",
    "  seurat_obj[[cell_type]] <- ModuleExprScore(\n",
    "    seurat_obj[[cell_type]],\n",
    "    n_genes = 25,\n",
    "    method='UCell'\n",
    "  )\n",
    "}"
   ]
  },
  {
   "attachments": {},
   "cell_type": "markdown",
   "id": "3bc33b36",
   "metadata": {},
   "source": [
    "# **Save Seurat Object**"
   ]
  },
  {
   "attachments": {},
   "cell_type": "markdown",
   "id": "c0739db5",
   "metadata": {},
   "source": [
    "This wraps up the critical analysis steps for hdWGCNA, let's save our output."
   ]
  },
  {
   "cell_type": "code",
   "execution_count": null,
   "id": "431d9ac4",
   "metadata": {},
   "outputs": [],
   "source": [
    "%%R -i seurat_obj\n",
    "\n",
    "dat_dir = paste0(\"../results/hdWGCNA/SeuratObject/\", save_prefix, '/')\n",
    "\n",
    "if (!dir.exists(dat_dir)) {\n",
    "  dir.create(dat_dir, recursive=TRUE)\n",
    "}\n",
    "\n",
    "for (cell_type in names(seurat_obj)){\n",
    "    \n",
    "    print(paste0('Saving hdWGCNA object in hdWGCNA Experiment for ', toupper(cell_type)))\n",
    "\n",
    "    saveRDS(seurat_obj[[cell_type]], file=paste0(dat_dir, cell_type, '_hdWGCNA_object.rds'))\n",
    "\n",
    "}"
   ]
  }
 ],
 "metadata": {
  "kernelspec": {
   "display_name": "scRNA_seq_meta_analysis",
   "language": "python",
   "name": "python3"
  },
  "language_info": {
   "codemirror_mode": {
    "name": "ipython",
    "version": 3
   },
   "file_extension": ".py",
   "mimetype": "text/x-python",
   "name": "python",
   "nbconvert_exporter": "python",
   "pygments_lexer": "ipython3",
   "version": "3.10.6"
  },
  "vscode": {
   "interpreter": {
    "hash": "2f414a000012e1980f5fd1119ed6b9bf8cc73b51e37b52eb52a16ff857effd1c"
   }
  }
 },
 "nbformat": 4,
 "nbformat_minor": 5
}
