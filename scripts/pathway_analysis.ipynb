{
 "cells": [
  {
   "cell_type": "code",
   "execution_count": 1,
   "id": "62042f97-a76e-4b34-805f-3f1ac81e7288",
   "metadata": {},
   "outputs": [],
   "source": [
    "import os\n",
    "import rpy2\n",
    "import scipy\n",
    "import logging\n",
    "import warnings\n",
    "import anndata2ri\n",
    "import pandas as pd\n",
    "import scanpy as sc\n",
    "import numpy as np\n",
    "import seaborn as sb\n",
    "import decoupler as dc\n",
    "import scrublet as scr\n",
    "import decoupler as dc\n",
    "from scipy import sparse\n",
    "from anndata import AnnData\n",
    "from tabnanny import verbose\n",
    "import matplotlib.pyplot as plt\n",
    "from gsva_prep import prep_gsva\n",
    "import rpy2.robjects as robjects\n",
    "from rpy2.robjects import pandas2ri\n",
    "from typing import Optional, Union\n",
    "from matplotlib.pyplot import rcParams\n",
    "from functions import pathway_analyses\n",
    "from statsmodels.stats.multitest import multipletests\n",
    "from sklearn.model_selection import train_test_split\n",
    "from pytorch_lightning.loggers import TensorBoardLogger\n",
    "from rpy2.robjects.conversion import localconverter"
   ]
  },
  {
   "cell_type": "code",
   "execution_count": 2,
   "id": "c36a2bac",
   "metadata": {},
   "outputs": [],
   "source": [
    "def get_sys_dpi(width, height, diag):\n",
    "    '''\n",
    "    obtain dpi of system\n",
    "    \n",
    "    w: width in pixels (if unsure, go vist `whatismyscreenresolution.net`)\n",
    "    h: height in pixels\n",
    "    d: diagonal in inches\n",
    "    '''\n",
    "    w_inches = (diag**2/ (1 + height**2/width**2))**0.5\n",
    "    return round(width/w_inches)"
   ]
  },
  {
   "cell_type": "code",
   "execution_count": 3,
   "id": "447b6d1c",
   "metadata": {},
   "outputs": [
    {
     "name": "stdout",
     "output_type": "stream",
     "text": [
      "-----\n",
      "anndata     0.8.0\n",
      "scanpy      1.9.3\n",
      "-----\n",
      "PIL                         9.5.0\n",
      "absl                        NA\n",
      "anndata2ri                  1.1\n",
      "appnope                     0.1.3\n",
      "asttokens                   NA\n",
      "attr                        23.1.0\n",
      "backcall                    0.2.0\n",
      "cffi                        1.15.1\n",
      "comm                        0.1.3\n",
      "cycler                      0.10.0\n",
      "cython_runtime              NA\n",
      "dateutil                    2.8.2\n",
      "debugpy                     1.6.7\n",
      "decorator                   5.1.1\n",
      "decoupler                   1.4.0\n",
      "deprecate                   0.3.2\n",
      "dot_parser                  NA\n",
      "executing                   1.2.0\n",
      "fsspec                      2023.6.0\n",
      "functions                   NA\n",
      "google                      NA\n",
      "gsva_prep                   NA\n",
      "h5py                        3.9.0\n",
      "igraph                      0.10.4\n",
      "ipykernel                   6.23.2\n",
      "ipywidgets                  8.0.6\n",
      "jedi                        0.18.2\n",
      "jinja2                      3.1.2\n",
      "joblib                      1.2.0\n",
      "kiwisolver                  1.4.4\n",
      "leidenalg                   0.9.1\n",
      "llvmlite                    0.40.1rc1\n",
      "louvain                     0.8.0\n",
      "markupsafe                  2.1.3\n",
      "matplotlib                  3.7.1\n",
      "mpl_toolkits                NA\n",
      "mpmath                      1.3.0\n",
      "natsort                     8.4.0\n",
      "numba                       0.57.0\n",
      "numexpr                     2.8.4\n",
      "numpy                       1.24.3\n",
      "opt_einsum                  v3.3.0\n",
      "packaging                   23.1\n",
      "pandas                      2.0.2\n",
      "parso                       0.8.3\n",
      "patsy                       0.5.3\n",
      "pexpect                     4.8.0\n",
      "pickleshare                 0.7.5\n",
      "pkg_resources               NA\n",
      "platformdirs                3.7.0\n",
      "prompt_toolkit              3.0.38\n",
      "psutil                      5.9.5\n",
      "ptyprocess                  0.7.0\n",
      "pure_eval                   0.2.2\n",
      "pycparser                   2.21\n",
      "pydev_ipython               NA\n",
      "pydevconsole                NA\n",
      "pydevd                      2.9.5\n",
      "pydevd_file_utils           NA\n",
      "pydevd_plugins              NA\n",
      "pydevd_tracing              NA\n",
      "pydot                       1.4.2\n",
      "pygments                    2.15.1\n",
      "pyparsing                   3.1.0\n",
      "pytorch_lightning           1.7.7\n",
      "pytz                        2023.3\n",
      "pytz_deprecation_shim       NA\n",
      "rich                        NA\n",
      "rpy2                        3.5.12\n",
      "scipy                       1.10.1\n",
      "scrublet                    NA\n",
      "seaborn                     0.12.2\n",
      "session_info                1.0.0\n",
      "setuptools                  68.0.0\n",
      "six                         1.16.0\n",
      "sklearn                     1.2.2\n",
      "sparse                      0.14.0\n",
      "stack_data                  0.6.2\n",
      "statsmodels                 0.14.0\n",
      "sympy                       1.12\n",
      "tensorboard                 2.13.0\n",
      "texttable                   1.6.7\n",
      "threadpoolctl               3.1.0\n",
      "torch                       2.0.1\n",
      "torchmetrics                0.11.4\n",
      "tornado                     6.3.2\n",
      "tqdm                        4.65.0\n",
      "traitlets                   5.9.0\n",
      "typing_extensions           NA\n",
      "tzlocal                     NA\n",
      "wcwidth                     0.2.6\n",
      "yaml                        6.0\n",
      "zmq                         25.1.0\n",
      "zoneinfo                    NA\n",
      "-----\n",
      "IPython             8.14.0\n",
      "jupyter_client      8.2.0\n",
      "jupyter_core        5.3.1\n",
      "-----\n",
      "Python 3.10.6 (main, Oct 24 2022, 11:04:34) [Clang 12.0.0 ]\n",
      "macOS-10.16-x86_64-i386-64bit\n",
      "-----\n",
      "Session information updated at 2023-07-27 13:52\n"
     ]
    }
   ],
   "source": [
    "# # Ignore R warning messages\n",
    "#Note: this can be commented out to get more verbose R output\n",
    "rpy2.rinterface_lib.callbacks.logger.setLevel(logging.ERROR)\n",
    "\n",
    "# # Automatically convert rpy2 outputs to pandas dataframes\n",
    "# pandas2ri.activate()\n",
    "# anndata2ri.activate()\n",
    "# %load_ext rpy2.ipython\n",
    "\n",
    "warnings.filterwarnings(\"ignore\", category=PendingDeprecationWarning)\n",
    "warnings.filterwarnings(\"ignore\", category=UserWarning)\n",
    "warnings.filterwarnings(\"ignore\", category=FutureWarning)\n",
    "\n",
    "# Automatically convert rpy2 outputs to pandas dataframes\n",
    "pandas2ri.activate()\n",
    "anndata2ri.activate()\n",
    "%load_ext rpy2.ipython\n",
    "\n",
    "rcParams['figure.dpi'] = get_sys_dpi(1512, 982, 14.125)\n",
    "#rcParams['figure.figsize']=(4,4) #rescale figures\n",
    "\n",
    "sc.settings.verbosity = 3\n",
    "#sc.set_figure_params(dpi=200, dpi_save=300)\n",
    "sc.logging.print_versions()\n",
    "\n"
   ]
  },
  {
   "attachments": {},
   "cell_type": "markdown",
   "id": "10be21f0-000d-48d7-9e97-4051ec9da0bd",
   "metadata": {},
   "source": [
    "## **1. Reading in the data**"
   ]
  },
  {
   "attachments": {},
   "cell_type": "markdown",
   "id": "d40204d0-56d5-4984-a2af-1075b64098f1",
   "metadata": {},
   "source": [
    "### **Prepare data**\n",
    "\n",
    "Now, we load the preprocessed and annotated data for differential pathway analysis.\n",
    "\n",
    "Make sure the anndata has the count data in either `.layers` or in `.X`. if count data is not in `.layers` it will be assumed that `.X ` contains the counts"
   ]
  },
  {
   "attachments": {},
   "cell_type": "markdown",
   "id": "78145099",
   "metadata": {},
   "source": [
    "Please set `get_cell_types=True` if, `cell_type` column is absent or contains celltype annotation not of the form\n",
    "\n",
    "- `Excitatory`, `Inhibitory`, `Astrocyte`, `Oligodendrocyte`, `OPC`, `Microglia`, `Endothelial`."
   ]
  },
  {
   "cell_type": "code",
   "execution_count": 20,
   "id": "e763f1ce",
   "metadata": {},
   "outputs": [],
   "source": [
    "save_prefix = 'seaad_mtg'\n",
    "get_cell_types = False"
   ]
  },
  {
   "cell_type": "code",
   "execution_count": 21,
   "id": "53693e9d",
   "metadata": {},
   "outputs": [
    {
     "data": {
      "text/plain": [
       "AnnData object with n_obs × n_vars = 154368 × 36601\n",
       "    obs: 'sample_id', 'Neurotypical reference', 'Donor ID', 'Organism', 'Brain Region', 'Sex', 'Gender', 'Age at Death', 'Race (choice=White)', 'Race (choice=Black/ African American)', 'Race (choice=Asian)', 'Race (choice=American Indian/ Alaska Native)', 'Race (choice=Native Hawaiian or Pacific Islander)', 'Race (choice=Unknown or unreported)', 'Race (choice=Other)', 'specify other race', 'Hispanic/Latino', 'Highest level of education', 'Years of education', 'PMI', 'Fresh Brain Weight', 'Brain pH', 'Overall AD neuropathological Change', 'Thal', 'Braak', 'CERAD score', 'Overall CAA Score', 'Highest Lewy Body Disease', 'Total Microinfarcts (not observed grossly)', 'Total microinfarcts in screening sections', 'Atherosclerosis', 'Arteriolosclerosis', 'LATE', 'Cognitive Status', 'Last CASI Score', 'Interval from last CASI in months', 'Last MMSE Score', 'Interval from last MMSE in months', 'Last MOCA Score', 'Interval from last MOCA in months', 'APOE4 Status', 'Primary Study Name', 'Secondary Study Name', 'NeuN positive fraction on FANS', 'RIN', 'cell_prep_type', 'facs_population_plan', 'rna_amplification', 'sample_name', 'sample_quantity_count', 'expc_cell_capture', 'method', 'pcr_cycles', 'percent_cdna_longer_than_400bp', 'rna_amplification_pass_fail', 'amplified_quantity_ng', 'load_name', 'library_prep', 'library_input_ng', 'r1_index', 'avg_size_bp', 'quantification_fmol', 'library_prep_pass_fail', 'exp_component_vendor_name', 'batch_vendor_name', 'experiment_component_failed', 'alignment', 'Genome', 'ar_id', 'bc', 'GEX_Estimated_number_of_cells', 'GEX_number_of_reads', 'GEX_sequencing_saturation', 'GEX_Mean_raw_reads_per_cell', 'GEX_Q30_bases_in_barcode', 'GEX_Q30_bases_in_read_2', 'GEX_Q30_bases_in_UMI', 'GEX_Percent_duplicates', 'GEX_Q30_bases_in_sample_index_i1', 'GEX_Q30_bases_in_sample_index_i2', 'GEX_Reads_with_TSO', 'GEX_Sequenced_read_pairs', 'GEX_Valid_UMIs', 'GEX_Valid_barcodes', 'GEX_Reads_mapped_to_genome', 'GEX_Reads_mapped_confidently_to_genome', 'GEX_Reads_mapped_confidently_to_intergenic_regions', 'GEX_Reads_mapped_confidently_to_intronic_regions', 'GEX_Reads_mapped_confidently_to_exonic_regions', 'GEX_Reads_mapped_confidently_to_transcriptome', 'GEX_Reads_mapped_antisense_to_gene', 'GEX_Fraction_of_transcriptomic_reads_in_cells', 'GEX_Total_genes_detected', 'GEX_Median_UMI_counts_per_cell', 'GEX_Median_genes_per_cell', 'Multiome_Feature_linkages_detected', 'Multiome_Linked_genes', 'Multiome_Linked_peaks', 'ATAC_Confidently_mapped_read_pairs', 'ATAC_Fraction_of_genome_in_peaks', 'ATAC_Fraction_of_high_quality_fragments_in_cells', 'ATAC_Fraction_of_high_quality_fragments_overlapping_TSS', 'ATAC_Fraction_of_high_quality_fragments_overlapping_peaks', 'ATAC_Fraction_of_transposition_events_in_peaks_in_cells', 'ATAC_Mean_raw_read_pairs_per_cell', 'ATAC_Median_high_quality_fragments_per_cell', 'ATAC_Non-nuclear_read_pairs', 'ATAC_Number_of_peaks', 'ATAC_Percent_duplicates', 'ATAC_Q30_bases_in_barcode', 'ATAC_Q30_bases_in_read_1', 'ATAC_Q30_bases_in_read_2', 'ATAC_Q30_bases_in_sample_index_i1', 'ATAC_Sequenced_read_pairs', 'ATAC_TSS_enrichment_score', 'ATAC_Unmapped_read_pairs', 'ATAC_Valid_barcodes', 'Number of mapped reads', 'Number of unmapped reads', 'Number of multimapped reads', 'Number of reads', 'Number of UMIs', 'Genes detected', 'Doublet score', 'Fraction mitochondrial UMIs', 'Used in analysis', 'Class confidence', 'Class', 'Subclass confidence', 'Subclass', 'Supertype confidence', 'Supertype (non-expanded)', 'Supertype', 'individualID', 'cell_type', 'pathology.group'\n",
       "    var: 'gene_ids'\n",
       "    uns: 'APOE4 Status_colors', 'Braak_colors', 'CERAD score_colors', 'Cognitive Status_colors', 'Great Apes Metadata', 'Highest Lewy Body Disease_colors', 'LATE_colors', 'Overall AD neuropathological Change_colors', 'Sex_colors', 'Subclass_colors', 'Supertype_colors', 'Thal_colors', 'UW Clinical Metadata', 'X_normalization', 'batch_condition', 'default_embedding', 'neighbors', 'title', 'umap'\n",
       "    obsm: 'X_scVI', 'X_umap'\n",
       "    layers: 'UMIs', 'counts'\n",
       "    obsp: 'connectivities', 'distances'"
      ]
     },
     "execution_count": 21,
     "metadata": {},
     "output_type": "execute_result"
    }
   ],
   "source": [
    "adata_annot = sc.read_h5ad(f'../data/raw/{save_prefix}/{save_prefix}_raw_anndata.h5ad')\n",
    "\n",
    "if 'counts' not in adata_annot.layers.keys():\n",
    "    adata_annot.layers['counts'] = adata_annot.X.copy()\n",
    "else:\n",
    "    adata_annot.X = adata_annot.layers['counts'].copy()\n",
    "\n",
    "adata_annot"
   ]
  },
  {
   "attachments": {},
   "cell_type": "markdown",
   "id": "e1a784ba",
   "metadata": {},
   "source": [
    "Specify the way to map cells to appropriate cell-types"
   ]
  },
  {
   "cell_type": "code",
   "execution_count": 6,
   "id": "41fdf8ee",
   "metadata": {},
   "outputs": [],
   "source": [
    "celltypes = [\"Excitatory\", \"Inhibitory\", \"Astrocyte\", \"Microglia\", \"Oligodendrocyte\", \"OPC\", 'Endothelial'] \n",
    "#\"Excitatory\", \"Inhibitory\", \"Astrocyte\", \"Microglia\", \"Oligodendrocyte\", \"OPC\", \"Endothelial\"\n",
    "\n",
    "mapping = {'leng_etc':\n",
    "           \n",
    "           {'Exc': 'Excitatory', \n",
    "            'Inh': 'Inhibitory', \n",
    "            'Astro': 'Astrocyte',\n",
    "            'Endo': 'Endothelial', \n",
    "            'Micro': 'Microglia', \n",
    "            'OPC': 'OPC', \n",
    "            'Oligo': 'Oligodendrocyte'},\n",
    "\n",
    "           'leng_sfg':\n",
    "           \n",
    "           {'Exc': 'Excitatory', \n",
    "            'Inh': 'Inhibitory', \n",
    "            'Astro': 'Astrocyte',\n",
    "            'Endo': 'Endothelial', \n",
    "            'Micro': 'Microglia', \n",
    "            'OPC': 'OPC', \n",
    "            'Oligo': 'Oligodendrocyte'},\n",
    "           \n",
    "           'allen_mtg':\n",
    "           \n",
    "           {'Excitatory': 'Excitatory', \n",
    "            'Inhibitory': 'Inhibitory',\n",
    "            'Astrocyte': 'Astrocyte',\n",
    "            'Microglia': 'Microglia', \n",
    "            'Endothelial': 'Endothelial', \n",
    "            'OPC': 'OPC',\n",
    "            'Oligodendrocyte': 'Oligodendrocyte'},\n",
    "            \n",
    "            'seaad_mtg':\n",
    "           \n",
    "           {'Excitatory': 'Excitatory', \n",
    "            'Inhibitory': 'Inhibitory',\n",
    "            'Astrocyte': 'Astrocyte',\n",
    "            'Microglia': 'Microglia', \n",
    "            'Endothelial': 'Endothelial', \n",
    "            'OPC': 'OPC',\n",
    "            'Oligodendrocyte': 'Oligodendrocyte'},\n",
    "            }\n",
    "\n",
    "cell_column = {'leng_etc': 'clusterCellType',\n",
    "               'leng_sfg': 'clusterCellType',\n",
    "               'allen_mtg': 'cell_labels',\n",
    "               'seaad_mtg': 'cell_type',\n",
    "               }"
   ]
  },
  {
   "cell_type": "code",
   "execution_count": 7,
   "id": "e183f8eb",
   "metadata": {},
   "outputs": [],
   "source": [
    "if get_cell_types:\n",
    "    adata_annot.obs['cell_type'] = adata_annot.obs[cell_column[save_prefix]].map(mapping[save_prefix])\n",
    "\n",
    "adata_annot = adata_annot[adata_annot.obs.cell_type.isin(celltypes)]"
   ]
  },
  {
   "attachments": {},
   "cell_type": "markdown",
   "id": "95e3f93b",
   "metadata": {},
   "source": [
    "### **Prepare Meta-data**\n",
    "\n",
    "Now we specify other related information\n",
    "\n",
    "Specify the following:\n",
    "\n",
    "- `metadata`: Path to metadata. Metadata must contain a column called `pathology.group` with the only unique groups being `no`, `early`, and `late`.\n",
    "\n",
    "- `test_names`: List of the different test names of interest. This will only affect the tests that will be saved and not the overall linear model used in the design matrix itself as all contrasts (tests) will still be accounted for in the linear model.\n",
    "\n",
    "- `control_group`: Name of control group in metadata. This should ideally be `no`, representing the control group \n",
    "\n",
    "- `subject_id`: Name of the column containing Subject/Patient ID in metadata and `.obs`\n",
    "\n",
    "- `covariates`: This should be a list of additional confounding covariates (`not including pathology.group`) e.g `Sex`, `Sample Batch`, `Age` and other factors that might not be of interest but might have an effect on the pathological status. If you would not like to include any cofounders, please set `covaraites = ['None']`.\n",
    "\n",
    "    -  For the `Mathys` data the only covariate included is `msex_x`\n",
    "    -  For the `Leng` data the no covariate was included so `None` was included \n",
    "\n",
    "- `save_prefix`: Prefix for saving critical files. preferably chosen to be in the format `{source name}_{brain region}`. e.g `mathys_pfc`\n",
    "        "
   ]
  },
  {
   "cell_type": "code",
   "execution_count": 8,
   "id": "fb37e8af",
   "metadata": {},
   "outputs": [],
   "source": [
    "control_group = 'no'                    # name of the control group in metadata \n",
    "\n",
    "covaraites_for_study = {'allen_mtg': ['None'], # ['ageDeath.cat', 'sex_y',],\n",
    "                        'leng_sfg': ['None'],  # ['ageDeath.cat',],\n",
    "                        'leng_etc': ['None'],  # ['ageDeath.cat',]\n",
    "                        'seaad_mtg': ['None']\n",
    "                        }\n",
    "\n",
    "subject_ids_for_study = {'allen_mtg': 'individualID',\n",
    "                        'leng_sfg': 'PatientID',\n",
    "                        'leng_etc': 'PatientID',\n",
    "                        'seaad_mtg': 'individualID'}\n",
    "\n",
    "bio_covariates = covaraites_for_study[save_prefix]  # list of covariates to be accounted for in regression.\n",
    "technical_covariate = 'SampleBatch'                 # Technical covariate to be included as random effect not of interest (regressed out by duplicatecorrection)\n",
    "duplicate_correction = 'FALSE'                      # whether to run duplicate corretion in Limma to block out technical_covariate\n",
    "gene_celltype_threshold = 0.10                      # determines number of cells the gene must be expressed in\n",
    "filter_genes_from = 'pseudobulk'                    # whether to filter genees after aggregating pseudobulks or from single_cell object \n",
    "pathway_gene_threshold = 0.33                       # determines number of genes that must be present in that pathway\n",
    "subject_id = subject_ids_for_study[save_prefix]     # for leng this is `PatientID` for mathys is 'Subject', and allen is 'individualID'\n",
    "pseudobulk_method = 'agg_x_norm'                    # method for aggregrating cells from replicates into pseudobulks.\n",
    "\n",
    "metadata = f'../data/raw/{save_prefix}/{save_prefix}_metadata.csv'\n",
    "\n",
    "test_names = ['early_vs_no', 'late_vs_early', 'late_vs_no', 'ad_vs_no']"
   ]
  },
  {
   "attachments": {},
   "cell_type": "markdown",
   "id": "9041a1c2",
   "metadata": {},
   "source": [
    "### **Normalize and Log Transform AnnData**"
   ]
  },
  {
   "cell_type": "code",
   "execution_count": 9,
   "id": "1012c49a",
   "metadata": {},
   "outputs": [],
   "source": [
    "# if 'counts' in adata_annot.layers.keys():\n",
    "#     print('normalizaing data using count data in .layers[\"counts] ')\n",
    "#     adata_annot.X = adata_annot.layers['counts'].toarray().copy()\n",
    "#     sc.pp.normalize_total(adata_annot, target_sum=1e04)\n",
    "#     sc.pp.log1p(adata_annot)\n",
    "# else:\n",
    "#     print('normaling data using count data in .X')\n",
    "#     adata_annot.layers['counts'] = adata_annot.X\n",
    "#     sc.pp.normalize_total(adata_annot, target_sum=1e04)\n",
    "#     sc.pp.log1p(adata_annot)"
   ]
  },
  {
   "attachments": {},
   "cell_type": "markdown",
   "id": "40289aa7",
   "metadata": {},
   "source": [
    "#### **Normalization using [**Joel W. Blanchard et. al.**](https://github.com/djunamay/apoe4myelin/blob/main/functions/qc_and_annotation_aux_functions.r) strategy** "
   ]
  },
  {
   "cell_type": "code",
   "execution_count": 10,
   "id": "744b657d",
   "metadata": {},
   "outputs": [],
   "source": [
    "#adata_annot = pathway_analyses.normalize_default(adata_annot, log_scale=True)"
   ]
  },
  {
   "attachments": {},
   "cell_type": "markdown",
   "id": "7e12ff25",
   "metadata": {},
   "source": [
    "#### **Normalization With [ACTIONet](https://github.com/shmohammadi86/ACTIONet/blob/python-devel/ACTIONet/preprocessing/normalization.py) strategy** "
   ]
  },
  {
   "cell_type": "code",
   "execution_count": 11,
   "id": "5e5f3590",
   "metadata": {},
   "outputs": [],
   "source": [
    "adata_annot = pathway_analyses.normalize_actionet(adata_annot, layer_key = 'counts', layer_key_out = None, \n",
    "                                                    top_features_frac = 1.0, scale_factor = \"median\", \n",
    "                                                    transformation = \"log\", anchor_features = None, copy = True)"
   ]
  },
  {
   "attachments": {},
   "cell_type": "markdown",
   "id": "a5d8a01b",
   "metadata": {},
   "source": [
    "## **2.4 Systematic differential analysis of pathway activity**\n",
    "\n",
    "Motivated by findings from [**Joel W. Blanchard et. al.**](https://doi.org/10.1038/s41586-022-05439-w), we perform differential pathway activity analysis using pathways obtained from the following databases (downloaded from the Mayaan laboratory; https://maayanlab.cloud/ Enrichr/#libraries):\n",
    "\n",
    "- Gene Ontology biological processes (2018),\n",
    "- KEGG (2019), \n",
    "- Reactome (2016) \n",
    "- and HumanCyc (2016) \n"
   ]
  },
  {
   "attachments": {},
   "cell_type": "markdown",
   "id": "c568575c",
   "metadata": {},
   "source": [
    "### **Load and Process Pathways**"
   ]
  },
  {
   "cell_type": "code",
   "execution_count": 12,
   "id": "12fa36cd",
   "metadata": {},
   "outputs": [
    {
     "name": "stderr",
     "output_type": "stream",
     "text": [
      "/Users/tadeoye/Documents/Research codes/scRNA_seq_meta_analysis/scripts/functions/pathway_analyses.py:225: DtypeWarning: Columns (488,489,490,491,492,493,494,495,496,497,498,499,500,501,502,503,504,505,506,507,508,509,510,511,512,513,514,515,516,517,518,519,520,521,522,523,524,525,526,527,528,529,530,531,532,533,534,535,536,537,538,539,540,541,542,543,544,545,546,547,548,549,550,551,552,553,554,555,556,557,558,559,560,561,562,563,564,565,566,567,568,569,570,571,572,573,574,575,576,577,578,579,580,581,582,583,584,585,586,587,588,589,590,591,592,593,594,595,596,597,598,599,600,601,602,603,604,605,606,607,608,609,610,611,612,613,614,615,616,617,618,619,620,621,622,623,624,625,626,627,628,629,630,631,632,633,634,635,636,637,638,639,640,641,642,643,644,645,646,647,648,649,650,651,652,653,654,655,656,657,658,659,660,661,662,663,664,665,666,667,668,669,670,671,672,673,674,675,676,677,678,679,680,681,682,683,684,685,686,687,688,689,690,691,692,693,694,695,696,697,698,699,700,701,702,703,704,705,706,707,708,709,710,711,712,713,714,715,716,717,718,719,720,721,722,723,724,725,726,727,728,729,730,731,732,733,734,735,736,737,738,739,740,741,742,743,744,745,746,747,748,749,750,751,752,753,754,755,756,757,758,759,760,761,762,763,764,765,766,767,768,769,770,771,772,773,774,775,776,777,778,779,780,781,782,783,784,785,786,787,788,789,790,791,792,793,794,795,796,797,798,799,800,801,802,803,804,805,806,807,808,809,810,811,812,813,814,815,816,817,818,819,820,821,822,823,824,825,826,827,828,829,830,831,832,833,834,835,836,837,838,839,840,841,842,843,844,845,846,847,848,849,850,851,852,853,854,855,856,857,858,859,860,861,862,863,864,865,866,867,868,869,870,871,872,873,874,875,876,877,878,879,880,881,882,883,884,885,886,887,888,889,890,891,892,893,894,895,896,897,898,899,900,901,902,903,904,905,906,907,908,909,910,911,912,913,914,915,916,917,918,919,920,921,922,923,924,925,926,927,928,929,930,931,932,933,934,935,936,937,938,939,940,941,942,943,944,945,946,947,948,949,950,951,952,953,954,955,956,957,958,959,960,961,962,963,964,965,966,967,968,969,970,971,972,973,974,975,976,977,978,979,980,981,982,983,984,985,986,987,988,989,990,991,992,993,994,995,996,997,998,999,1000,1001,1002,1003,1004,1005,1006,1007,1008,1009,1010,1011,1012,1013,1014,1015,1016,1017,1018,1019,1020,1021,1022,1023,1024,1025,1026,1027,1028,1029,1030,1031,1032,1033,1034,1035,1036,1037,1038,1039,1040,1041,1042,1043,1044,1045,1046,1047,1048,1049,1050,1051,1052,1053,1054,1055,1056,1057,1058,1059,1060,1061,1062,1063,1064,1065,1066,1067,1068,1069,1070,1071,1072,1073,1074,1075,1076,1077,1078,1079,1080,1081,1082,1083,1084,1085,1086,1087,1088,1089,1090,1091,1092,1093,1094,1095,1096,1097,1098,1099,1100,1101,1102,1103,1104,1105,1106,1107,1108,1109,1110,1111,1112,1113,1114,1115,1116,1117,1118,1119,1120,1121,1122,1123,1124,1125,1126,1127,1128,1129,1130,1131,1132,1133,1134,1135,1136,1137,1138,1139,1140,1141,1142,1143,1144,1145,1146,1147,1148,1149,1150,1151,1152,1153,1154,1155,1156,1157,1158,1159,1160,1161,1162,1163,1164,1165,1166,1167,1168,1169,1170,1171,1172,1173,1174,1175,1176,1177,1178,1179,1180,1181,1182,1183,1184,1185,1186,1187,1188,1189,1190,1191,1192,1193,1194,1195,1196,1197,1198,1199,1200,1201,1202,1203,1204,1205,1206,1207,1208,1209,1210,1211,1212,1213,1214,1215,1216,1217,1218,1219,1220,1221,1222,1223,1224,1225,1226,1227,1228,1229,1230,1231,1232,1233,1234,1235,1236,1237,1238,1239,1240,1241,1242,1243,1244,1245,1246,1247,1248,1249,1250,1251,1252,1253,1254,1255,1256,1257,1258,1259,1260,1261,1262,1263,1264,1265,1266,1267,1268,1269,1270,1271,1272,1273,1274,1275,1276,1277,1278,1279,1280,1281,1282,1283,1284,1285,1286,1287,1288,1289,1290,1291,1292,1293,1294,1295,1296,1297,1298,1299,1300,1301,1302,1303,1304,1305,1306,1307,1308,1309,1310,1311,1312,1313,1314,1315,1316,1317,1318,1319,1320,1321,1322,1323,1324,1325,1326,1327,1328,1329,1330,1331,1332,1333,1334,1335,1336,1337,1338,1339,1340,1341,1342,1343,1344,1345,1346,1347,1348,1349,1350,1351,1352,1353,1354,1355,1356,1357,1358,1359,1360,1361,1362,1363,1364,1365,1366,1367,1368,1369,1370,1371,1372,1373,1374,1375,1376,1377,1378,1379,1380,1381,1382,1383,1384,1385,1386,1387,1388,1389,1390,1391,1392,1393,1394,1395,1396,1397,1398,1399,1400,1401,1402,1403,1404,1405,1406,1407,1408,1409,1410,1411,1412,1413,1414,1415,1416,1417,1418,1419,1420,1421,1422,1423,1424,1425,1426,1427,1428,1429,1430,1431,1432,1433,1434,1435,1436,1437,1438,1439,1440,1441,1442,1443,1444,1445,1446,1447,1448,1449,1450,1451,1452,1453,1454,1455,1456,1457,1458,1459,1460,1461,1462,1463,1464,1465,1466,1467,1468,1469,1470,1471,1472,1473,1474,1475,1476,1477,1478,1479,1480,1481,1482,1483,1484,1485,1486,1487,1488,1489,1490,1491,1492,1493,1494,1495,1496,1497,1498,1499,1500,1501,1502,1503,1504,1505,1506,1507,1508,1509,1510,1511,1512,1513,1514,1515,1516,1517,1518,1519,1520,1521,1522,1523,1524,1525,1526,1527,1528,1529,1530,1531,1532,1533,1534,1535,1536,1537,1538,1539,1540,1541,1542,1543,1544,1545,1546,1547,1548,1549,1550,1551,1552,1553,1554,1555,1556,1557,1558,1559,1560,1561,1562,1563,1564,1565,1566,1567,1568,1569,1570,1571,1572,1573,1574,1575,1576,1577,1578,1579,1580,1581,1582,1583,1584,1585,1586,1587,1588,1589,1590,1591,1592,1593,1594,1595,1596,1597,1598,1599,1600) have mixed types. Specify dtype option on import or set low_memory=False.\n",
      "  return pd.read_csv(filename, header=None, delimiter=\"\\t\", names=column_names)\n",
      "/Users/tadeoye/Documents/Research codes/scRNA_seq_meta_analysis/scripts/functions/pathway_analyses.py:225: DtypeWarning: Columns (494,495,496,497,498,499,500,501,502,503,504,505,506,507,508,509,510,511,512,513,514,515,516,517,518,519,520,521,522,523,524,525,526,527,528,529,530,531,532,533,534,535,536,537,538,539,540,541,542,543,544,545,546,547,548,549,550,551,552,553,554,555,556,557,558,559,560,561,562,563,564,565,566,567,568,569,570,571,572,573,574,575,576,577,578,579,580,581,582,583,584,585,586,587,588,589,590,591,592,593,594,595,596,597,598,599,600,601,602,603,604,605,606,607,608,609,610,611,612,613,614,615,616,617,618,619,620,621,622,623,624,625,626,627,628,629,630,631,632,633,634,635,636,637,638,639,640,641,642,643,644,645,646,647,648,649,650,651,652,653,654,655,656,657,658,659,660,661,662,663,664,665,666,667,668,669,670,671,672,673,674,675,676,677,678,679,680,681,682,683,684,685,686,687,688,689,690,691,692,693,694,695,696,697,698,699,700,701,702,703,704,705,706,707,708,709,710,711,712,713,714,715,716,717,718,719,720,721,722,723,724,725,726,727,728,729,730,731,732,733,734,735,736,737,738,739,740,741,742,743,744,745,746,747,748,749,750,751,752,753,754,755,756,757,758,759,760,761,762,763,764,765,766,767,768,769,770,771,772,773,774,775,776,777,778,779,780,781,782,783,784,785,786,787,788,789,790,791,792,793,794,795,796,797,798,799,800,801,802,803,804,805,806,807,808,809,810,811,812,813,814,815,816,817,818,819,820,821,822,823,824,825,826,827,828,829,830,831,832,833,834,835,836,837,838,839,840,841,842,843,844,845,846,847,848,849,850,851,852,853,854,855,856,857,858,859,860,861,862,863,864,865,866,867,868,869,870,871,872,873,874,875,876,877,878,879,880,881,882,883,884,885,886,887,888,889,890,891,892,893,894,895,896,897,898,899,900,901,902,903,904,905,906,907,908,909,910,911,912,913,914,915,916,917,918,919,920,921,922,923,924,925,926,927,928,929,930,931,932,933,934,935,936,937,938,939,940,941,942,943,944,945,946,947,948,949,950,951,952,953,954,955,956,957,958,959,960,961,962,963,964,965,966,967,968,969,970,971,972,973,974,975,976,977,978,979,980,981,982,983,984,985,986,987,988,989,990,991,992,993,994,995,996,997,998,999,1000,1001,1002,1003,1004,1005,1006,1007,1008,1009,1010,1011,1012,1013,1014,1015,1016,1017,1018,1019,1020,1021,1022,1023,1024,1025,1026,1027,1028,1029,1030,1031,1032,1033,1034,1035,1036,1037,1038,1039,1040,1041,1042,1043,1044,1045,1046,1047,1048,1049,1050,1051,1052,1053,1054,1055,1056,1057,1058,1059,1060,1061,1062,1063,1064,1065,1066,1067,1068,1069,1070,1071,1072,1073,1074,1075,1076,1077,1078,1079,1080,1081,1082,1083,1084,1085,1086,1087,1088,1089,1090,1091,1092,1093,1094,1095,1096,1097,1098,1099,1100,1101,1102,1103,1104,1105,1106,1107,1108,1109,1110,1111,1112,1113,1114,1115,1116,1117,1118,1119,1120,1121,1122,1123,1124,1125,1126,1127,1128,1129,1130,1131,1132,1133,1134,1135,1136,1137,1138,1139,1140,1141,1142,1143,1144,1145,1146,1147,1148,1149,1150,1151,1152,1153,1154,1155,1156,1157,1158,1159,1160,1161,1162,1163,1164,1165,1166,1167,1168,1169,1170,1171,1172,1173,1174,1175,1176,1177,1178,1179,1180,1181,1182,1183,1184,1185,1186,1187,1188,1189,1190,1191,1192,1193,1194,1195,1196,1197,1198,1199,1200,1201,1202,1203,1204,1205,1206,1207,1208,1209,1210,1211,1212,1213,1214,1215,1216,1217,1218,1219,1220,1221,1222,1223,1224,1225,1226,1227,1228,1229,1230,1231,1232,1233,1234,1235,1236,1237,1238,1239,1240,1241,1242,1243,1244,1245,1246,1247,1248,1249,1250,1251,1252,1253,1254,1255,1256,1257,1258,1259,1260,1261,1262,1263,1264,1265,1266,1267,1268,1269,1270,1271,1272,1273,1274,1275,1276,1277,1278,1279,1280,1281,1282,1283,1284,1285,1286,1287,1288,1289,1290,1291,1292,1293,1294,1295,1296,1297,1298,1299,1300,1301,1302,1303,1304,1305,1306,1307,1308,1309,1310,1311,1312,1313,1314,1315,1316,1317,1318,1319,1320,1321,1322,1323,1324,1325,1326,1327,1328,1329,1330,1331,1332,1333,1334,1335,1336,1337,1338,1339,1340,1341,1342,1343,1344,1345,1346,1347,1348,1349,1350,1351,1352,1353,1354,1355,1356,1357,1358,1359,1360,1361,1362,1363,1364,1365,1366,1367,1368,1369,1370,1371,1372,1373,1374,1375,1376,1377,1378,1379,1380,1381,1382,1383,1384,1385,1386,1387,1388,1389,1390,1391,1392,1393,1394,1395,1396,1397,1398,1399,1400,1401,1402,1403,1404,1405,1406,1407,1408,1409,1410,1411,1412,1413,1414,1415,1416,1417,1418,1419,1420,1421,1422,1423,1424,1425,1426,1427,1428,1429,1430,1431,1432,1433,1434,1435,1436,1437,1438,1439,1440,1441,1442,1443,1444,1445,1446,1447,1448,1449,1450,1451,1452,1453,1454,1455,1456,1457,1458,1459,1460,1461,1462,1463,1464,1465,1466,1467,1468,1469,1470,1471,1472,1473,1474,1475,1476,1477,1478,1479,1480,1481,1482,1483,1484,1485,1486,1487,1488,1489,1490,1491,1492,1493,1494,1495,1496,1497,1498,1499,1500,1501,1502,1503,1504,1505,1506,1507,1508,1509,1510,1511,1512,1513,1514,1515,1516,1517,1518,1519,1520,1521,1522,1523,1524,1525,1526,1527,1528,1529,1530,1531,1532,1533,1534,1535,1536,1537,1538,1539,1540,1541,1542,1543,1544,1545,1546,1547,1548,1549,1550,1551,1552,1553,1554,1555,1556,1557,1558,1559,1560,1561,1562,1563,1564,1565,1566,1567,1568,1569,1570,1571,1572,1573,1574,1575,1576,1577,1578,1579,1580,1581,1582,1583,1584,1585,1586,1587,1588,1589,1590,1591,1592,1593,1594,1595,1596,1597,1598,1599,1600,1601,1602,1603,1604,1605,1606,1607,1608,1609,1610,1611,1612,1613,1614,1615,1616,1617,1618,1619,1620,1621,1622,1623,1624,1625,1626,1627,1628,1629,1630,1631,1632,1633,1634,1635,1636,1637,1638,1639,1640,1641,1642,1643,1644,1645,1646,1647,1648,1649,1650,1651,1652,1653,1654,1655,1656,1657,1658,1659,1660,1661,1662,1663,1664,1665,1666,1667,1668,1669,1670,1671,1672,1673,1674,1675,1676,1677,1678,1679,1680,1681,1682,1683,1684,1685,1686,1687,1688,1689,1690,1691,1692,1693,1694,1695,1696,1697,1698,1699,1700,1701,1702,1703,1704,1705,1706,1707,1708,1709,1710,1711,1712,1713,1714,1715,1716,1717,1718,1719,1720,1721,1722,1723,1724,1725,1726,1727,1728,1729,1730,1731,1732,1733,1734,1735,1736,1737,1738,1739,1740,1741,1742,1743,1744,1745,1746,1747,1748,1749,1750,1751,1752,1753,1754,1755,1756,1757,1758,1759,1760,1761,1762,1763,1764,1765,1766,1767,1768,1769,1770,1771,1772,1773,1774,1775,1776,1777,1778,1779,1780,1781,1782,1783,1784,1785,1786,1787,1788,1789,1790,1791,1792,1793,1794,1795,1796,1797,1798,1799,1800,1801,1802,1803,1804,1805,1806,1807,1808,1809,1810,1811,1812,1813,1814,1815,1816,1817,1818,1819,1820,1821,1822,1823,1824,1825,1826,1827,1828,1829,1830,1831,1832,1833,1834,1835,1836,1837,1838,1839,1840,1841,1842,1843,1844,1845,1846,1847,1848,1849,1850,1851,1852,1853,1854,1855,1856,1857,1858,1859,1860,1861,1862,1863,1864,1865,1866,1867,1868,1869,1870,1871,1872,1873,1874,1875,1876,1877,1878,1879,1880,1881,1882,1883,1884,1885,1886,1887,1888,1889,1890,1891,1892,1893,1894,1895,1896,1897,1898,1899,1900,1901,1902,1903,1904,1905,1906,1907,1908,1909,1910,1911,1912,1913,1914,1915,1916,1917,1918,1919,1920,1921,1922,1923,1924,1925,1926,1927,1928,1929,1930,1931,1932,1933,1934,1935,1936,1937,1938,1939,1940,1941,1942,1943,1944,1945,1946,1947,1948,1949,1950,1951,1952,1953,1954,1955,1956,1957,1958,1959,1960,1961,1962,1963,1964,1965,1966,1967,1968,1969,1970,1971,1972,1973,1974,1975,1976,1977,1978,1979,1980,1981,1982,1983,1984,1985,1986,1987,1988,1989,1990,1991,1992,1993,1994,1995,1996,1997,1998,1999,2000,2001,2002,2003,2004,2005,2006,2007,2008,2009,2010,2011,2012,2013,2014,2015,2016,2017,2018,2019,2020,2021,2022,2023,2024,2025,2026,2027,2028,2029,2030,2031,2032,2033,2034,2035,2036,2037,2038,2039,2040,2041,2042,2043,2044,2045,2046,2047,2048,2049,2050,2051,2052,2053,2054,2055,2056,2057,2058,2059,2060,2061,2062,2063,2064,2065,2066,2067,2068,2069,2070,2071,2072,2073,2074,2075,2076,2077,2078,2079,2080,2081,2082,2083,2084,2085,2086,2087,2088,2089,2090,2091,2092,2093,2094,2095,2096,2097,2098,2099,2100,2101,2102,2103,2104,2105,2106,2107,2108,2109,2110,2111,2112,2113,2114,2115,2116,2117,2118,2119,2120,2121,2122,2123,2124,2125,2126,2127,2128,2129,2130,2131,2132,2133,2134,2135,2136,2137,2138,2139,2140,2141,2142,2143,2144,2145,2146,2147,2148,2149,2150,2151,2152,2153,2154,2155,2156,2157,2158,2159,2160,2161,2162,2163,2164,2165,2166,2167,2168,2169,2170,2171,2172,2173,2174,2175,2176,2177,2178,2179,2180,2181,2182,2183,2184,2185,2186,2187,2188,2189,2190,2191,2192,2193,2194,2195,2196,2197,2198,2199,2200,2201,2202,2203,2204,2205,2206,2207,2208,2209,2210,2211,2212,2213,2214,2215,2216,2217,2218,2219,2220,2221,2222,2223,2224,2225,2226,2227,2228,2229,2230,2231,2232,2233,2234,2235,2236,2237,2238,2239,2240,2241,2242,2243,2244,2245,2246,2247,2248,2249,2250,2251,2252,2253,2254,2255,2256,2257,2258,2259,2260,2261,2262,2263,2264,2265,2266,2267,2268,2269,2270,2271,2272,2273,2274,2275,2276,2277,2278,2279,2280,2281,2282,2283,2284,2285,2286,2287,2288,2289,2290,2291,2292,2293,2294,2295,2296,2297,2298,2299,2300,2301,2302,2303,2304,2305,2306,2307,2308,2309,2310,2311,2312,2313,2314,2315,2316,2317,2318,2319,2320,2321,2322,2323,2324,2325,2326,2327,2328,2329,2330,2331,2332,2333,2334,2335,2336,2337,2338,2339,2340,2341,2342,2343,2344,2345,2346,2347,2348,2349,2350,2351,2352,2353,2354,2355,2356,2357,2358,2359,2360,2361,2362,2363,2364,2365,2366,2367,2368,2369,2370,2371,2372,2373,2374,2375,2376,2377,2378,2379,2380,2381,2382,2383,2384,2385,2386,2387,2388,2389,2390,2391,2392,2393,2394,2395,2396,2397,2398,2399,2400,2401,2402,2403,2404,2405,2406,2407,2408,2409,2410,2411,2412,2413,2414,2415,2416,2417,2418,2419,2420,2421,2422,2423,2424,2425,2426,2427,2428,2429,2430,2431,2432,2433,2434,2435,2436,2437,2438,2439,2440,2441,2442,2443,2444,2445,2446,2447,2448,2449,2450,2451,2452,2453,2454,2455,2456,2457,2458,2459,2460,2461,2462,2463,2464,2465,2466) have mixed types. Specify dtype option on import or set low_memory=False.\n",
      "  return pd.read_csv(filename, header=None, delimiter=\"\\t\", names=column_names)\n"
     ]
    }
   ],
   "source": [
    "bp = pathway_analyses.read_pathways('../data/pathway_databases/GO_Biological_Process_2018.txt')\n",
    "cy = pathway_analyses.read_pathways('../data/pathway_databases/HumanCyc_2016.txt')\n",
    "ke = pathway_analyses.read_pathways('../data/pathway_databases/KEGG_2019_Human.txt')\n",
    "re = pathway_analyses.read_pathways('../data/pathway_databases/Reactome_2016.txt')\n",
    "\n",
    "all_paths = pd.concat([bp, cy, ke, re], join='outer', axis=0, ignore_index=True)\n",
    "all_paths.set_index(0, inplace=True)\n",
    "all_paths.fillna(\"\", inplace=True)\n",
    "all_paths_dict = all_paths.to_dict(orient='index')\n",
    "\n",
    "\n",
    "go_bp_paths = bp.set_index(0)\n",
    "go_bp_paths.fillna(\"\", inplace=True)\n",
    "go_bp_paths_dict = go_bp_paths.to_dict(orient='index')\n",
    "\n",
    "\n",
    "gene_set_by_path = {key: [val for val in value.values() if val != \"\"] for key, value in go_bp_paths_dict.items()}\n",
    "gene_set_by_path = pd.DataFrame.from_dict(gene_set_by_path, orient='index').transpose()"
   ]
  },
  {
   "attachments": {},
   "cell_type": "markdown",
   "id": "4a288442",
   "metadata": {},
   "source": [
    "### **Expressed Genes Per cell-type**\n",
    "\n",
    "Next, we follow the protocol described in [**Joel W. Blanchard et. al.**](https://doi.org/10.1038/s41586-022-05439-w), and filter out genes not expressed in a significantly across a cell type. As in [**Joel W. Blanchard et. al.**](https://doi.org/10.1038/s41586-022-05439-w), we retain genes that are expressed `in > 10%` of cells in that cell type using the gene counts stored in `.layers`\n",
    "\n",
    "\n",
    "This filtereing is expected to minimize the discovery of false positive effects on pathway activity scores computed in a downstream step."
   ]
  },
  {
   "cell_type": "code",
   "execution_count": 13,
   "id": "9804a8e8",
   "metadata": {},
   "outputs": [],
   "source": [
    "expressed_genes_per_celltype = pathway_analyses.filter_expressed_genes_by_celltype(adata_annot, threshold=gene_celltype_threshold, \n",
    "                                                                                   filter_genes_from = filter_genes_from,\n",
    "                                                                                   subject_id = subject_id)\n",
    "\n",
    "gene_set_per_celltype = pathway_analyses.filter_lowly_exp_genes(expressed_genes_per_celltype, gene_set_by_path, \n",
    "                                                                threshold=pathway_gene_threshold)"
   ]
  },
  {
   "attachments": {},
   "cell_type": "markdown",
   "id": "3830d142",
   "metadata": {},
   "source": [
    "### **Aggregate Individual Level Averages Per cell-type**\n",
    "\n",
    "To prepare the data for pathway analysis, we calculate normalized gene expression profile averages for each individual and cell type. We achieve this by computing averaged expression profiles using the `get_ind_level_ave` function, which employs one of two methods:\n",
    "\n",
    "Next, we calculate individual-cell-type-level normalized gene expression profile averages that will be fed into the pathway analysis module.\n",
    "\n",
    "The function  computes the averaged expression profile for each cell type and individual. Using one of two methods;\n",
    "\n",
    "\n",
    "- **Aggregrate Pseubulk Then Normalize(`agg_x_norm`)**:\n",
    "\n",
    "    - In this method, a pseudobulk profile is generated using `decoupler.get_pseudobulk()`, and the count data is log-normalized according to the protocol outlined in [**ACTIONet**](https://www.nature.com/articles/s41467-020-18416-6). This involves normalizing the counts to the mean library size, scaled to the median.\n",
    "\n",
    "     decoupler.get_pseudobulk(), and the count data is log-normalized according to the protocol outlined in ACTIONet. This involves normalizing the counts to the mean library size, scaled to the median.\n",
    "\n",
    "- **Normalize then Aggregate (`norm_x_agg`)**:\n",
    "\n",
    "    - In this method, individual-cell-type-level normalized gene expression profiles are obtained by aggregating the normalized values obtained from  [**ACTIONet**](https://www.nature.com/articles/s41467-020-18416-6) and stored in the  `.X` attribute. This is the aggregation protocol is described in [**Joel W. Blanchard et. al.**](https://doi.org/10.1038/s41586-022-05439-w).\n",
    "    \n",
    "IIn both methods, we retain only the genes that meet the filtering threshold described in the previous section.  This is done by setting `filter_genes_at_threshold = True` and passing the dictionary of expressed genes in each cell type to `expressed_genes_per_celltype`"
   ]
  },
  {
   "cell_type": "code",
   "execution_count": 14,
   "id": "9c03ada6",
   "metadata": {},
   "outputs": [],
   "source": [
    "avs_logcounts_cellxind  = pathway_analyses.get_ind_level_ave(adata_annot, subject_id, pseudobulk_method, \n",
    "                                                             expressed_genes_per_celltype, filter_genes_at_threshold=True)"
   ]
  },
  {
   "attachments": {},
   "cell_type": "markdown",
   "id": "4a25865f",
   "metadata": {},
   "source": [
    "Now Let's confirm that the filtered data contains a reasonable proportion of AD risk genes reproted in previous literature"
   ]
  },
  {
   "cell_type": "code",
   "execution_count": 15,
   "id": "1bbec694",
   "metadata": {},
   "outputs": [
    {
     "name": "stdout",
     "output_type": "stream",
     "text": [
      "There are 31 AD-associated genes in Excitatory cells\n",
      "There are 36 AD-associated genes in Inhibitory cells\n",
      "There are 32 AD-associated genes in Astrocyte cells\n",
      "There are 31 AD-associated genes in Oligodendrocyte cells\n",
      "There are 36 AD-associated genes in OPC cells\n",
      "There are 42 AD-associated genes in Microglia cells\n",
      "There are 42 AD-associated genes in Endothelial cells\n"
     ]
    }
   ],
   "source": [
    "ad_genes = pd.read_csv('../data/pathway_databases/AD_genes.csv')\n",
    "\n",
    "for cell_type in avs_logcounts_cellxind.keys():\n",
    "    print(f'There are {sum(avs_logcounts_cellxind[cell_type].index.isin(ad_genes.Symbol))} AD-associated genes in {cell_type} cells')"
   ]
  },
  {
   "attachments": {},
   "cell_type": "markdown",
   "id": "1398d57d",
   "metadata": {},
   "source": [
    "### **Prep data for Gene Set Variation Analysis in R**"
   ]
  },
  {
   "cell_type": "code",
   "execution_count": 16,
   "id": "11d61179",
   "metadata": {},
   "outputs": [],
   "source": [
    "\n",
    "for cell_type in adata_annot.obs.cell_type.unique():\n",
    "    prep_gsva(avs_logcounts_cellxind[cell_type], gene_set_per_celltype[cell_type], \n",
    "              tempdir=f'../results/gsva/{save_prefix}/{cell_type}/', verbose=False)"
   ]
  },
  {
   "attachments": {},
   "cell_type": "markdown",
   "id": "652c6839",
   "metadata": {},
   "source": [
    "### **Estimate Pathway Activity Scores**\n",
    "\n",
    "After estimating individual-cell-type-level normalized gene expression profile averages, we next calculated pathway activity scores, as described in [**Joel W. Blanchard et. al.**](https://doi.org/10.1038/s41586-022-05439-w) and previously implemented in the R package (Gene Set Variational Analysis) GSVA (v.1.42.0)41. \n",
    "\n",
    "Briefly, GSVA estimates a normalized relative expression level per gene across samples. This expression level is then rank-ordered for each sample and aggregated into gene sets by calculating sample-wise enrichment scores using a Kolmogorov–Smirnov-like rank statistic.\n",
    "\n",
    "As described in [**Joel W. Blanchard et. al.**](https://doi.org/10.1038/s41586-022-05439-w), we used the parameters to evaluate the \n",
    "GSVA function:\n",
    "\n",
    "- `mx.diff=TRUE` \n",
    "- `kcdf=c(\"Gaussian\")`\n",
    "- `min.sz=5` \n",
    "- `max.sz=150`\n",
    "\n",
    "Here, we instead set `max.sz=500`, as described in the [**GSVA Tutorial**](http://www.bioconductor.org/packages/release/bioc/vignettes/GSVA/inst/doc/GSVA.html#5_Quantification_of_pathway_activity_in_bulk_microarray_and_RNA-seq_data)\n",
    "\n",
    "The authors report that ...\n",
    "\n",
    "`Activity scores computed this way accurately recovered cell type signatures that were not recovered by equally sized randomly sampled gene sets, suggesting that this approach captures transcriptomically encoded biological signals in snRNA-seq data`"
   ]
  },
  {
   "cell_type": "code",
   "execution_count": 17,
   "id": "d82607c6",
   "metadata": {},
   "outputs": [
    {
     "name": "stdout",
     "output_type": "stream",
     "text": [
      "[1] \"Estimating Pathway Activity Scores in Excitatory Cells\"\n",
      "[1] \"........\"\n",
      "Estimating GSVA scores for 1576 gene sets.\n",
      "Estimating ECDFs with Gaussian kernels\n",
      "  |======================================================================| 100%\n",
      "\n",
      "[1] \"Estimating Pathway Activity Scores in Inhibitory Cells\"\n",
      "[1] \"........\"\n",
      "Estimating GSVA scores for 2058 gene sets.\n",
      "Estimating ECDFs with Gaussian kernels\n",
      "  |======================================================================| 100%\n",
      "\n",
      "[1] \"Estimating Pathway Activity Scores in Astrocyte Cells\"\n",
      "[1] \"........\"\n",
      "Estimating GSVA scores for 2447 gene sets.\n",
      "Estimating ECDFs with Gaussian kernels\n",
      "  |======================================================================| 100%\n",
      "\n",
      "[1] \"Estimating Pathway Activity Scores in Microglia Cells\"\n",
      "[1] \"........\"\n",
      "Estimating GSVA scores for 3045 gene sets.\n",
      "Estimating ECDFs with Gaussian kernels\n",
      "  |======================================================================| 100%\n",
      "\n",
      "[1] \"Estimating Pathway Activity Scores in Oligodendrocyte Cells\"\n",
      "[1] \"........\"\n",
      "Estimating GSVA scores for 2507 gene sets.\n",
      "Estimating ECDFs with Gaussian kernels\n",
      "  |======================================================================| 100%\n",
      "\n",
      "[1] \"Estimating Pathway Activity Scores in OPC Cells\"\n",
      "[1] \"........\"\n",
      "Estimating GSVA scores for 2306 gene sets.\n",
      "Estimating ECDFs with Gaussian kernels\n",
      "  |======================================================================| 100%\n",
      "\n",
      "[1] \"Estimating Pathway Activity Scores in Endothelial Cells\"\n",
      "[1] \"........\"\n",
      "Estimating GSVA scores for 2993 gene sets.\n",
      "Estimating ECDFs with Gaussian kernels\n",
      "  |======================================================================| 100%\n",
      "\n"
     ]
    },
    {
     "data": {
      "text/plain": [
       "Loading required package: BiocGenerics\n",
       "\n",
       "Attaching package: ‘BiocGenerics’\n",
       "\n",
       "The following objects are masked from ‘package:stats’:\n",
       "\n",
       "    IQR, mad, sd, var, xtabs\n",
       "\n",
       "The following objects are masked from ‘package:base’:\n",
       "\n",
       "    Filter, Find, Map, Position, Reduce, anyDuplicated, aperm, append,\n",
       "    as.data.frame, basename, cbind, colnames, dirname, do.call,\n",
       "    duplicated, eval, evalq, get, grep, grepl, intersect, is.unsorted,\n",
       "    lapply, mapply, match, mget, order, paste, pmax, pmax.int, pmin,\n",
       "    pmin.int, rank, rbind, rownames, sapply, setdiff, sort, table,\n",
       "    tapply, union, unique, unsplit, which.max, which.min\n",
       "\n",
       "Loading required package: Biobase\n",
       "Welcome to Bioconductor\n",
       "\n",
       "    Vignettes contain introductory material; view with\n",
       "    'browseVignettes()'. To cite Bioconductor, see\n",
       "    'citation(\"Biobase\")', and for packages 'citation(\"pkgname\")'.\n",
       "\n",
       "Loading required package: annotate\n",
       "Loading required package: AnnotationDbi\n",
       "Loading required package: stats4\n",
       "Loading required package: IRanges\n",
       "Loading required package: S4Vectors\n",
       "\n",
       "Attaching package: ‘S4Vectors’\n",
       "\n",
       "The following object is masked from ‘package:utils’:\n",
       "\n",
       "    findMatches\n",
       "\n",
       "The following objects are masked from ‘package:base’:\n",
       "\n",
       "    I, expand.grid, unname\n",
       "\n",
       "Loading required package: XML\n",
       "\n",
       "Attaching package: ‘XML’\n",
       "\n",
       "The following object is masked from ‘package:tools’:\n",
       "\n",
       "    toHTML\n",
       "\n",
       "Loading required package: graph\n",
       "\n",
       "Attaching package: ‘graph’\n",
       "\n",
       "The following object is masked from ‘package:XML’:\n",
       "\n",
       "    addNode\n",
       "\n",
       "\n",
       "Attaching package: ‘tidyr’\n",
       "\n",
       "The following object is masked from ‘package:S4Vectors’:\n",
       "\n",
       "    expand\n",
       "\n",
       "\n",
       "Attaching package: ‘dplyr’\n",
       "\n",
       "The following objects are masked from ‘package:GSEABase’:\n",
       "\n",
       "    intersect, setdiff, union\n",
       "\n",
       "The following object is masked from ‘package:graph’:\n",
       "\n",
       "    union\n",
       "\n",
       "The following object is masked from ‘package:AnnotationDbi’:\n",
       "\n",
       "    select\n",
       "\n",
       "The following objects are masked from ‘package:IRanges’:\n",
       "\n",
       "    collapse, desc, intersect, setdiff, slice, union\n",
       "\n",
       "The following objects are masked from ‘package:S4Vectors’:\n",
       "\n",
       "    first, intersect, rename, setdiff, setequal, union\n",
       "\n",
       "The following object is masked from ‘package:Biobase’:\n",
       "\n",
       "    combine\n",
       "\n",
       "The following objects are masked from ‘package:BiocGenerics’:\n",
       "\n",
       "    combine, intersect, setdiff, union\n",
       "\n",
       "The following objects are masked from ‘package:stats’:\n",
       "\n",
       "    filter, lag\n",
       "\n",
       "The following objects are masked from ‘package:base’:\n",
       "\n",
       "    intersect, setdiff, setequal, union\n",
       "\n",
       "In addition: Warning messages:\n",
       "1: package ‘IRanges’ was built under R version 4.3.1 \n",
       "2: package ‘GSVA’ was built under R version 4.3.1 \n"
      ]
     },
     "metadata": {},
     "output_type": "display_data"
    }
   ],
   "source": [
    "%%R -o gsva_scores -i save_prefix -i celltypes\n",
    "\n",
    "library(GSEABase)\n",
    "library(GSVA)\n",
    "library(tidyr)\n",
    "library(dplyr)\n",
    "\n",
    "# create an empty list to store the output for each celltype\n",
    "gsva_scores = list()\n",
    "\n",
    "# iterate over celltypes and perform gsva\n",
    "for (celltype in celltypes) {\n",
    "    # get gene sets\n",
    "    geneSets = getGmt(file.path('../results/gsva/', save_prefix, '/', celltype, 'gs.gmt'))\n",
    "    geneSets = geneIds(geneSets)\n",
    "\n",
    "    # read in expression data\n",
    "    mat = as.matrix(read.csv(file.path('../results/gsva/', save_prefix, '/', celltype, 'expr.csv'), header=TRUE, row.names=1, check.names=FALSE))\n",
    "    \n",
    "    # run gsva\n",
    "    print(paste0(\"Estimating Pathway Activity Scores in \", celltype, \" Cells\"))\n",
    "    print(\"........\")\n",
    "    exc_gsva = gsva(mat, geneSets, mx.diff=TRUE, kcdf=c(\"Gaussian\"), min.sz=5, max.sz = 500)\n",
    "    \n",
    "    # Convert matrix to data frame and gather into \"long\" format\n",
    "    exc_gsva <- as.data.frame(exc_gsva, stringsAsFactors = FALSE)\n",
    "\n",
    "    # store the output in a list\n",
    "    gsva_scores[[celltype]] = exc_gsva\n",
    "\n",
    "    write.csv(gsva_scores[[celltype]], file = file.path('../results/gsva/', save_prefix, '/', celltype, 'gsva_scores.csv'))\n",
    "}\n"
   ]
  },
  {
   "attachments": {},
   "cell_type": "markdown",
   "id": "13bc27b5",
   "metadata": {},
   "source": [
    "### **Differential pathway activity analysis**\n",
    "\n",
    "Next, o investigate differential pathway activity across different cell types, we utilized a multivariate linear model approach, as described in [**Joel W. Blanchard et. al.**](https://doi.org/10.1038/s41586-022-05439-w), using pathway activity scores. \n",
    "\n",
    "The design matrix is consequently: \n",
    "\n",
    "`pathway activity ~ β0 × AD + β1 × msex + β2 × age_death.`\n",
    "\n",
    "`β0` represents the effect of AD on pathway activity, when accounting for confounding variables that might be correlated with, and therefore explain, a portion of the variation observed in the activity of a pathway of interest. \n",
    "\n",
    "Here, AD is a binary variable, encoding the pathological status. Amyloid and nft are averages of continuous measurements of pathology, as evaluated and reported by ROSMAP. Age_death is a continuous measurement indicating age at death, pmi represents the PMI (a continuous measurement) and sex is a binary variable encoding biological sex.\n",
    "\n",
    "Using this approach, we can model pathway activity scores for each pathway-cell type combination, accounting for various biological covariates, including AD, sex, age_death, and measures of amyloid and nft pathology as evaluated and reported in the metadata. \n",
    "\n",
    "To avoid mixing technical and biological covariates in the same model, we treat technical covraiates (such ad Sample Batch) which are not of interest as random effects. More so, initial exploratory analysis revealed nested factors and matrices without full rank. As a result, the resultant design matrix had some columns that are linearly dependent, which is due to batch information being redundant since certain batches are uniquely defined by one group. We noticed that the design matrix is not of full rank since the parameter estimation process returned a \"non-estimable\" warning for some parameters. \n",
    "\n",
    "To remedy this, we treat factors that are not of direct interest as random effects, by assigning the technical covraites as the blocking variable. We used the limma package's duplicateCorrelation method to account for this, which is especially useful when a batch covariate is partially confounded with the covariate of interest. resulting in a rank-deficient model. However, for the current iteration of our work, we set `duplicate_correction = 'FALSE'`. \n",
    "\n",
    "We also accounted for other biological factors such as sex and age_death by passing them as a list of `bio_covariates`. For this current iteration, we set `bio_covariates = ['None']`. According to [**Charity W. Law et al.**](https://doi.org/10.12688/f1000research.27893.1), an effective method for identifying additional factors to be considered is through the utilization of unsupervised clustering plots like principal components analysis (PCA). In all the studies examined, no other factors were found to be associated with the separation between sample clusters, leading to their exclusion from the model.\n",
    "\n",
    "The linear models were fitted using the `lmfit()` function and t-statistics were computed using the `eBayes()` function from the Limma R package (v.3.50.3). \n",
    "\n",
    "To prioritize candidate AD-dysregulated processes, pathways with snRNA-seq evidence of association with AD at a `nominal P value of 0.05` are considered to be potential candidates. This procedure will result in prioritized candidate pathways for all cell types. \n",
    "\n",
    "The linear models were fitted using the lmfit() function and t-statistics were computed using the eBayes() function from the Limma R package (v.3.50.3)."
   ]
  },
  {
   "cell_type": "code",
   "execution_count": 18,
   "id": "1f4001f4",
   "metadata": {},
   "outputs": [
    {
     "name": "stdout",
     "output_type": "stream",
     "text": [
      "[1] \"getting linear model fits...\"\n",
      "[1] \"get matrix of scores\"\n",
      "[1] \"filter by score 1.3\"\n"
     ]
    },
    {
     "data": {
      "text/plain": [
       "\n",
       "Attaching package: ‘limma’\n",
       "\n",
       "The following object is masked from ‘package:BiocGenerics’:\n",
       "\n",
       "    plotMA\n",
       "\n",
       "\n",
       "Attaching package: ‘magrittr’\n",
       "\n",
       "The following object is masked from ‘package:tidyr’:\n",
       "\n",
       "    extract\n",
       "\n"
      ]
     },
     "metadata": {},
     "output_type": "display_data"
    }
   ],
   "source": [
    "%%R -o all_data -i control_group -i metadata -i subject_id -i bio_covariates -i save_prefix -i technical_covariate -i duplicate_correction -i test_names\n",
    "\n",
    "library(limma)\n",
    "library(magrittr)\n",
    "library(tidyr)\n",
    "\n",
    "source('../scripts/functions/pathway_analyses.R')\n",
    "\n",
    "summary = read.csv(metadata)\n",
    "#control_group = paste(control_group, 'pathology', sep='-')\n",
    "summary$AD = ifelse(summary$pathology.group == control_group, 0, 1)\n",
    "rownames(summary) = summary[, subject_id]\n",
    "\n",
    "\n",
    "gsva_scores = list()\n",
    "# iterate over celltypes and perform limma\n",
    "for (celltype in celltypes) {\n",
    "\n",
    "    # read in pathway scores\n",
    "    pathway_scores = as.matrix(read.csv(file.path('../results/gsva/', save_prefix, '/', celltype, 'gsva_scores.csv'), header=TRUE, row.names=1, check.names=FALSE))\n",
    "\n",
    "    # store the output in a list\n",
    "    gsva_scores[[celltype]] <- t(pathway_scores)\n",
    "} \n",
    "\n",
    "all_data = list()\n",
    "\n",
    "all_data[['gsva_out']] = gsva_scores\n",
    "\n",
    "# get linear model fits\n",
    "print('getting linear model fits...')\n",
    "fits = get_fits(gsva_scores, summary, bio_covariates, technical_covariate)\n",
    "all_data[['fits_all']] = fits\n",
    "\n",
    "# get matrix of scores for heatmap\n",
    "print('get matrix of scores')\n",
    "scores = get_scores(fits)\n",
    "\n",
    "# Create a new empty list to store the reorganized scores\n",
    "new_scores <- list()\n",
    "\n",
    "# Loop over the different tests\n",
    "tests <- test_names\n",
    "for (test in tests) {\n",
    "  \n",
    "  # Create a new empty list for this test\n",
    "  new_scores[[test]] <- list('all' = list())\n",
    "  \n",
    "  # Loop over the different cell types\n",
    "  for (cell_type in celltypes) {\n",
    "    \n",
    "    # Copy the scores for this cell type and test\n",
    "    new_scores[[test]][['all']][[cell_type]] <- scores[['all']][[cell_type]][[test]]\n",
    "    \n",
    "  }\n",
    "}\n",
    "\n",
    "# save new_scores in list\n",
    "all_data[['scores_all']] = new_scores\n",
    "\n",
    "print('filter by score 1.3')\n",
    "# Extract unique gene names from scores object\n",
    "all_data[['scores_filtered']] = list()\n",
    "for(i in names(new_scores)){\n",
    "    names = unique(unname(unlist(lapply(names(new_scores[[i]]$all), function(x) rownames(new_scores[[i]]$all[[x]])))))\n",
    "    # Get a matrix of gene set scores for all samples\n",
    "    mat = get_matrix(new_scores[[i]]$all, names)\n",
    "    # Keep only rows with absolute values > 1.3 in at least one sample\n",
    "    mat = mat[unname(rowSums(abs(mat)>1.3)>0),]\n",
    "\n",
    "    # if(top_20==TRUE){\n",
    "    #     index = unique(unname(unlist(lapply(colnames(mat), function(x) order(abs(mat[[x]]),decreasing = T)[1:20]))))\n",
    "    #     mat = mat[index,]\n",
    "    # }\n",
    "    all_data[['scores_filtered']][[i]] = mat\n",
    "}\n"
   ]
  },
  {
   "attachments": {},
   "cell_type": "markdown",
   "id": "4b52d66a",
   "metadata": {},
   "source": [
    "### Significant Pathway Selection"
   ]
  },
  {
   "cell_type": "code",
   "execution_count": 19,
   "id": "26ed113c",
   "metadata": {},
   "outputs": [],
   "source": [
    "valid_pathways = {}\n",
    "all_pathways = {}\n",
    "\n",
    "for test_name in test_names:\n",
    "    valid_pathways[test_name] = {}\n",
    "    all_pathways[test_name] = pd.DataFrame()\n",
    "    # Loop through each unique cell type in the cell_type column of adata_annot and filter statistically significant pathways\n",
    "    for cell_type in adata_annot.obs.cell_type.unique():\n",
    "        try:\n",
    "            # Create a dataframe for the current cell type from a matrix in all_data, rename and set index.\n",
    "            valid_pathways[test_name][cell_type] = pd.DataFrame(all_data['scores_filtered'][test_name][cell_type])\n",
    "            all_data['scores_all'][test_name]['all'][cell_type].index.name = 'pathway'\n",
    "            valid_pathways[test_name][cell_type].index.name = 'pathway'\n",
    "            valid_pathways[test_name][cell_type].rename(columns={cell_type: 'score_adj'}, inplace=True)\n",
    "\n",
    "            # Merge current cell type dataframe with its corresponding scores_all dataframe on \"pathway\" and remove missing rows\n",
    "            valid_pathways[test_name][cell_type] = valid_pathways[test_name][cell_type].merge(all_data['scores_all'][test_name]['all'][cell_type],\n",
    "                                                     how='outer', on='pathway')\n",
    "            valid_pathways[test_name][cell_type].dropna(axis=0, inplace=True)\n",
    "\n",
    "            # Filter rows with P.Value less than 0.05 from the current cell type dataframe and sort by P.Value    \n",
    "            # valid_pathways[test_name][cell_type] = valid_pathways[test_name][cell_type][valid_pathways[test_name][cell_type]['P.Value']<0.05]\n",
    "            valid_pathways[test_name][cell_type].sort_values(by='P.Value', inplace=True)\n",
    "            \n",
    "            # Append the current cell type's dataframe to the all_pathways dataframe and sort by pathway\n",
    "            all_pathways[test_name] = pd.concat([all_pathways[test_name], valid_pathways[test_name][cell_type]], axis=0)\n",
    "            all_pathways[test_name].sort_values(by='pathway', inplace=True)\n",
    "        except KeyError:\n",
    "            continue"
   ]
  },
  {
   "attachments": {},
   "cell_type": "markdown",
   "id": "48d98f9c",
   "metadata": {},
   "source": [
    "### Renaming convention"
   ]
  },
  {
   "cell_type": "code",
   "execution_count": 20,
   "id": "b2ba11c7",
   "metadata": {},
   "outputs": [],
   "source": [
    "# Read in a CSV file containing the renaming convention for pathway names\n",
    "# Remove duplicate names in the renaming convention dataframe\n",
    "renaming_convention = pd.read_csv('../data/pathway_databases/renaming_convention.csv', dtype=str)\n",
    "renaming_convention.drop_duplicates(subset='names', inplace=True)\n",
    "\n",
    "for test_name in test_names:\n",
    "    # Reset the index of the all_pathways dataframe to allow merging with renamed convention\n",
    "    all_pathways[test_name].reset_index(inplace=True)\n",
    "    all_pathways[test_name] = pd.merge(all_pathways[test_name], renaming_convention[['names', 'shortened', 'highlight']], how='left', on='names')\n",
    "    all_pathways[test_name].set_index(keys='pathway', inplace=True)\n",
    "    all_pathways[test_name] =  all_pathways[test_name].astype(object).replace(np.nan, 'None')\n",
    "\n",
    "\n",
    "    dat_dir = f'../results/{test_name}/{save_prefix}/Data/'\n",
    "\n",
    "    if not os.path.exists(dat_dir):\n",
    "        os.makedirs(dat_dir)\n",
    "\n",
    "    # Write the all_pathways dataframe to a CSV file\n",
    "    all_pathways[test_name].to_csv(dat_dir+'differentially_expressed_pathways.csv')"
   ]
  },
  {
   "attachments": {},
   "cell_type": "markdown",
   "id": "f7dd5249",
   "metadata": {},
   "source": [
    "### Heat Map"
   ]
  },
  {
   "attachments": {},
   "cell_type": "markdown",
   "id": "9894567c",
   "metadata": {},
   "source": [
    "Filtered Cell-type-specific Pathways"
   ]
  },
  {
   "cell_type": "code",
   "execution_count": 21,
   "id": "0d330986",
   "metadata": {},
   "outputs": [],
   "source": [
    "# for test_name in test_names:\n",
    "#     print(f'heatmap for select cell-type-specific pathways in {test_name} test')\n",
    "#     list_of_paths_to_annotate = list(all_pathways[test_name].shortened[all_pathways[test_name].highlight=='yes'])\n",
    "#     df = all_pathways[test_name][all_pathways[test_name]['P.Value']<0.05]\n",
    "\n",
    "#     fig_dir = f'../results/{test_name}/{save_prefix}/HeatMap/'\n",
    "#     if not os.path.exists(fig_dir):\n",
    "#         os.makedirs(fig_dir)\n",
    "        \n",
    "#     save_path = fig_dir+'filtered_cell_type_specific_diff_exp_paths.pdf'\n",
    "\n",
    "#     pathway_analyses.plot_and_select_top_deps(df, list_of_paths_to_annotate, save_prefix=save_prefix,\n",
    "#                          save_path=save_path, filter=True, cell_type_specific=True, \n",
    "#                          test_name=test_name, cell_types=celltypes)"
   ]
  },
  {
   "attachments": {},
   "cell_type": "markdown",
   "id": "7cb4bf36",
   "metadata": {},
   "source": [
    "All Cell-type-specific Pathways"
   ]
  },
  {
   "cell_type": "code",
   "execution_count": 22,
   "id": "c792c369",
   "metadata": {},
   "outputs": [
    {
     "name": "stdout",
     "output_type": "stream",
     "text": [
      "heatmap for all cell-type-specific pathways in early_vs_no test\n"
     ]
    },
    {
     "data": {
      "image/png": "[encoded data removed]",
      "text/plain": [
       "<Figure size 64x680.96 with 2 Axes>"
      ]
     },
     "metadata": {},
     "output_type": "display_data"
    },
    {
     "name": "stdout",
     "output_type": "stream",
     "text": [
      "heatmap for all cell-type-specific pathways in late_vs_early test\n"
     ]
    },
    {
     "data": {
      "image/png": "[encoded data removed]",
      "text/plain": [
       "<Figure size 64x231.04 with 2 Axes>"
      ]
     },
     "metadata": {},
     "output_type": "display_data"
    },
    {
     "name": "stdout",
     "output_type": "stream",
     "text": [
      "heatmap for all cell-type-specific pathways in late_vs_no test\n"
     ]
    },
    {
     "data": {
      "image/png": "[encoded data removed]",
      "text/plain": [
       "<Figure size 64x741.76 with 2 Axes>"
      ]
     },
     "metadata": {},
     "output_type": "display_data"
    },
    {
     "name": "stdout",
     "output_type": "stream",
     "text": [
      "heatmap for all cell-type-specific pathways in ad_vs_no test\n"
     ]
    },
    {
     "data": {
      "image/png": "[encoded data removed]",
      "text/plain": [
       "<Figure size 64x717.44 with 2 Axes>"
      ]
     },
     "metadata": {},
     "output_type": "display_data"
    }
   ],
   "source": [
    "for test_name in test_names:\n",
    "    print(f'heatmap for all cell-type-specific pathways in {test_name} test')\n",
    "    list_of_paths_to_annotate = list(all_pathways[test_name].shortened[all_pathways[test_name].highlight=='yes'])\n",
    "    df = all_pathways[test_name][all_pathways[test_name]['P.Value']<0.05]\n",
    "\n",
    "    fig_dir = f'../results/{test_name}/{save_prefix}/HeatMap/'\n",
    "    if not os.path.exists(fig_dir):\n",
    "        os.makedirs(fig_dir)\n",
    "        \n",
    "    save_path = fig_dir+'all_cell_type_specific_diff_exp_paths.pdf'\n",
    "    \n",
    "    pathway_analyses.plot_and_select_top_deps(df, list_of_paths_to_annotate, save_prefix=save_prefix,\n",
    "                         save_path=save_path, filter=False, cell_type_specific=True, \n",
    "                         test_name=test_name, cell_types=celltypes)\n"
   ]
  },
  {
   "attachments": {},
   "cell_type": "markdown",
   "id": "74a487d8",
   "metadata": {},
   "source": [
    "Filtered Shared Pathways"
   ]
  },
  {
   "cell_type": "code",
   "execution_count": 23,
   "id": "936ac4de",
   "metadata": {},
   "outputs": [],
   "source": [
    "# for test_name in test_names:\n",
    "#     print(f'heatmap for select shared pathways in {test_name} test')\n",
    "#     list_of_paths_to_annotate = list(all_pathways[test_name].shortened[all_pathways[test_name].highlight=='yes'])\n",
    "#     df = all_pathways[test_name][all_pathways[test_name]['P.Value']<0.05]\n",
    "\n",
    "\n",
    "    # fig_dir = f'../results/{test_name}/{save_prefix}/HeatMap/'\n",
    "    # if not os.path.exists(fig_dir):\n",
    "    #     os.makedirs(fig_dir)\n",
    "        \n",
    "    # save_path = fig_dir+'filtered_broad_diff_exp_paths.pdf'\n",
    "\n",
    "#     pathway_analyses.plot_and_select_top_deps(df, list_of_paths_to_annotate, save_prefix=save_prefix,\n",
    "#                          save_path=save_path, filter=True, cell_type_specific=False, \n",
    "#                          test_name=test_name, cell_types=celltypes)\n"
   ]
  },
  {
   "attachments": {},
   "cell_type": "markdown",
   "id": "cf6bea5b",
   "metadata": {},
   "source": [
    "All shared Pathways"
   ]
  },
  {
   "cell_type": "code",
   "execution_count": 24,
   "id": "b77feac0",
   "metadata": {},
   "outputs": [
    {
     "name": "stdout",
     "output_type": "stream",
     "text": [
      "heatmap for all shared pathways in early_vs_no test\n"
     ]
    },
    {
     "data": {
      "image/png": "[encoded data removed]",
      "text/plain": [
       "<Figure size 64x182.4 with 2 Axes>"
      ]
     },
     "metadata": {},
     "output_type": "display_data"
    },
    {
     "name": "stdout",
     "output_type": "stream",
     "text": [
      "heatmap for all shared pathways in late_vs_early test\n"
     ]
    },
    {
     "data": {
      "image/png": "[encoded data removed]",
      "text/plain": [
       "<Figure size 64x36.48 with 2 Axes>"
      ]
     },
     "metadata": {},
     "output_type": "display_data"
    },
    {
     "name": "stdout",
     "output_type": "stream",
     "text": [
      "heatmap for all shared pathways in late_vs_no test\n"
     ]
    },
    {
     "data": {
      "image/png": "[encoded data removed]",
      "text/plain": [
       "<Figure size 64x145.92 with 2 Axes>"
      ]
     },
     "metadata": {},
     "output_type": "display_data"
    },
    {
     "name": "stdout",
     "output_type": "stream",
     "text": [
      "heatmap for all shared pathways in ad_vs_no test\n"
     ]
    },
    {
     "data": {
      "image/png": "[encoded data removed]",
      "text/plain": [
       "<Figure size 64x279.68 with 2 Axes>"
      ]
     },
     "metadata": {},
     "output_type": "display_data"
    }
   ],
   "source": [
    "from functions import pathway_analyses\n",
    "\n",
    "for test_name in test_names:\n",
    "    print(f'heatmap for all shared pathways in {test_name} test')\n",
    "    list_of_paths_to_annotate = list(all_pathways[test_name].shortened[all_pathways[test_name].highlight=='yes'])\n",
    "    df = all_pathways[test_name][all_pathways[test_name]['P.Value']<0.05]\n",
    "\n",
    "    \n",
    "    fig_dir = f'../results/{test_name}/{save_prefix}/HeatMap/'\n",
    "    if not os.path.exists(fig_dir):\n",
    "        os.makedirs(fig_dir)\n",
    "        \n",
    "    save_path = fig_dir+'all_broad_diff_exp_paths.pdf'\n",
    "    \n",
    "    pathway_analyses.plot_and_select_top_deps(df, list_of_paths_to_annotate, save_prefix=save_prefix,\n",
    "                         save_path=save_path, filter=False, cell_type_specific=False, \n",
    "                         test_name=test_name, cell_types=celltypes)\n",
    "    "
   ]
  },
  {
   "cell_type": "code",
   "execution_count": null,
   "id": "dbc7819a",
   "metadata": {},
   "outputs": [],
   "source": []
  }
 ],
 "metadata": {
  "kernelspec": {
   "display_name": "scRNA_seq_meta_analysis",
   "language": "python",
   "name": "python3"
  },
  "language_info": {
   "codemirror_mode": {
    "name": "ipython",
    "version": 3
   },
   "file_extension": ".py",
   "mimetype": "text/x-python",
   "name": "python",
   "nbconvert_exporter": "python",
   "pygments_lexer": "ipython3",
   "version": "3.10.6"
  },
  "vscode": {
   "interpreter": {
    "hash": "2f414a000012e1980f5fd1119ed6b9bf8cc73b51e37b52eb52a16ff857effd1c"
   }
  }
 },
 "nbformat": 4,
 "nbformat_minor": 5
}
