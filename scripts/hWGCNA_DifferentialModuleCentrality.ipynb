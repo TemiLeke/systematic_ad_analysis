{
 "cells": [
  {
   "cell_type": "code",
   "execution_count": 1,
   "id": "62042f97-a76e-4b34-805f-3f1ac81e7288",
   "metadata": {},
   "outputs": [],
   "source": [
    "import rpy2\n",
    "import scipy\n",
    "import logging\n",
    "import warnings\n",
    "import anndata2ri\n",
    "import pandas as pd\n",
    "import scanpy as sc\n",
    "import numpy as np\n",
    "import seaborn as sb\n",
    "import decoupler as dc\n",
    "import scrublet as scr\n",
    "import decoupler as dc\n",
    "from scipy import sparse\n",
    "from anndata import AnnData\n",
    "from tabnanny import verbose\n",
    "import matplotlib.pyplot as plt\n",
    "from gsva_prep import prep_gsva\n",
    "import rpy2.robjects as robjects\n",
    "from rpy2.robjects import pandas2ri\n",
    "from typing import Optional, Union\n",
    "from matplotlib.pyplot import rcParams\n",
    "from functions import pathway_analyses\n",
    "from statsmodels.stats.multitest import multipletests\n",
    "from sklearn.model_selection import train_test_split\n",
    "from pytorch_lightning.loggers import TensorBoardLogger\n",
    "from rpy2.robjects.conversion import localconverter"
   ]
  },
  {
   "cell_type": "code",
   "execution_count": 2,
   "id": "c36a2bac",
   "metadata": {},
   "outputs": [],
   "source": [
    "def get_sys_dpi(width, height, diag):\n",
    "    '''\n",
    "    obtain dpi of system\n",
    "    \n",
    "    w: width in pixels (if unsure, go vist `whatismyscreenresolution.net`)\n",
    "    h: height in pixels\n",
    "    d: diagonal in inches\n",
    "    '''\n",
    "    w_inches = (diag**2/ (1 + height**2/width**2))**0.5\n",
    "    return round(width/w_inches)"
   ]
  },
  {
   "cell_type": "code",
   "execution_count": 3,
   "id": "447b6d1c",
   "metadata": {},
   "outputs": [
    {
     "name": "stdout",
     "output_type": "stream",
     "text": [
      "-----\n",
      "anndata     0.8.0\n",
      "scanpy      1.9.3\n",
      "-----\n",
      "PIL                         9.5.0\n",
      "absl                        NA\n",
      "anndata2ri                  1.1\n",
      "appnope                     0.1.3\n",
      "asttokens                   NA\n",
      "attr                        23.1.0\n",
      "backcall                    0.2.0\n",
      "botocore                    1.31.17\n",
      "cffi                        1.15.1\n",
      "comm                        0.1.3\n",
      "cycler                      0.10.0\n",
      "cython_runtime              NA\n",
      "dateutil                    2.8.2\n",
      "debugpy                     1.6.7\n",
      "decorator                   5.1.1\n",
      "decoupler                   1.4.0\n",
      "deprecate                   0.3.2\n",
      "dot_parser                  NA\n",
      "executing                   1.2.0\n",
      "fsspec                      2023.6.0\n",
      "functions                   NA\n",
      "google                      NA\n",
      "gsva_prep                   NA\n",
      "h5py                        3.9.0\n",
      "igraph                      0.10.4\n",
      "ipykernel                   6.23.2\n",
      "ipywidgets                  8.0.6\n",
      "jedi                        0.18.2\n",
      "jinja2                      3.1.2\n",
      "joblib                      1.2.0\n",
      "kiwisolver                  1.4.4\n",
      "leidenalg                   0.9.1\n",
      "llvmlite                    0.39.1\n",
      "louvain                     0.8.0\n",
      "markupsafe                  2.1.3\n",
      "matplotlib                  3.7.1\n",
      "mpl_toolkits                NA\n",
      "mpmath                      1.3.0\n",
      "natsort                     8.4.0\n",
      "numba                       0.56.4\n",
      "numexpr                     2.8.4\n",
      "numpy                       1.23.5\n",
      "opt_einsum                  v3.3.0\n",
      "packaging                   23.1\n",
      "pandas                      2.0.2\n",
      "parso                       0.8.3\n",
      "patsy                       0.5.3\n",
      "pexpect                     4.8.0\n",
      "pickleshare                 0.7.5\n",
      "pkg_resources               NA\n",
      "platformdirs                3.7.0\n",
      "prompt_toolkit              3.0.38\n",
      "psutil                      5.9.5\n",
      "ptyprocess                  0.7.0\n",
      "pure_eval                   0.2.2\n",
      "pyarrow                     12.0.1\n",
      "pycparser                   2.21\n",
      "pydev_ipython               NA\n",
      "pydevconsole                NA\n",
      "pydevd                      2.9.5\n",
      "pydevd_file_utils           NA\n",
      "pydevd_plugins              NA\n",
      "pydevd_tracing              NA\n",
      "pydot                       1.4.2\n",
      "pygments                    2.15.1\n",
      "pyparsing                   3.1.0\n",
      "pytorch_lightning           1.7.7\n",
      "pytz                        2023.3\n",
      "pytz_deprecation_shim       NA\n",
      "rich                        NA\n",
      "rpy2                        3.5.12\n",
      "scipy                       1.10.1\n",
      "scrublet                    NA\n",
      "seaborn                     0.12.2\n",
      "session_info                1.0.0\n",
      "setuptools                  68.0.0\n",
      "six                         1.16.0\n",
      "sklearn                     1.2.2\n",
      "sparse                      0.14.0\n",
      "stack_data                  0.6.2\n",
      "statsmodels                 0.14.0\n",
      "sympy                       1.12\n",
      "tensorboard                 2.13.0\n",
      "texttable                   1.6.7\n",
      "threadpoolctl               3.1.0\n",
      "torch                       2.0.1\n",
      "torchmetrics                0.11.4\n",
      "tornado                     6.3.2\n",
      "tqdm                        4.65.0\n",
      "traitlets                   5.9.0\n",
      "typing_extensions           NA\n",
      "tzlocal                     NA\n",
      "wcwidth                     0.2.6\n",
      "yaml                        6.0\n",
      "zmq                         25.1.0\n",
      "zoneinfo                    NA\n",
      "-----\n",
      "IPython             8.14.0\n",
      "jupyter_client      8.2.0\n",
      "jupyter_core        5.3.1\n",
      "-----\n",
      "Python 3.10.6 (main, Oct 24 2022, 11:04:34) [Clang 12.0.0 ]\n",
      "macOS-10.16-x86_64-i386-64bit\n",
      "-----\n",
      "Session information updated at 2023-08-14 16:49\n"
     ]
    }
   ],
   "source": [
    "# # Ignore R warning messages\n",
    "#Note: this can be commented out to get more verbose R output\n",
    "rpy2.rinterface_lib.callbacks.logger.setLevel(logging.ERROR)\n",
    "\n",
    "# # Automatically convert rpy2 outputs to pandas dataframes\n",
    "# pandas2ri.activate()\n",
    "# anndata2ri.activate()\n",
    "# %load_ext rpy2.ipython\n",
    "\n",
    "warnings.filterwarnings(\"ignore\", category=PendingDeprecationWarning)\n",
    "warnings.filterwarnings(\"ignore\", category=UserWarning)\n",
    "warnings.filterwarnings(\"ignore\", category=FutureWarning)\n",
    "\n",
    "# Automatically convert rpy2 outputs to pandas dataframes\n",
    "pandas2ri.activate()\n",
    "anndata2ri.activate()\n",
    "%load_ext rpy2.ipython\n",
    "\n",
    "rcParams['figure.dpi'] = get_sys_dpi(1512, 982, 14.125)\n",
    "#rcParams['figure.figsize']=(4,4) #rescale figures\n",
    "\n",
    "sc.settings.verbosity = 3\n",
    "#sc.set_figure_params(dpi=200, dpi_save=300)\n",
    "sc.logging.print_versions()\n",
    "\n"
   ]
  },
  {
   "attachments": {},
   "cell_type": "markdown",
   "id": "10be21f0-000d-48d7-9e97-4051ec9da0bd",
   "metadata": {},
   "source": [
    "# **hdWGCNA Module Preservation**"
   ]
  },
  {
   "cell_type": "code",
   "execution_count": 5,
   "id": "8b87d243",
   "metadata": {},
   "outputs": [
    {
     "name": "stdout",
     "output_type": "stream",
     "text": [
      "Error in library(package, pos = pos, lib.loc = lib.loc, character.only = TRUE,  : \n",
      "  there is no package called ‘ACTIONet’\n"
     ]
    },
    {
     "ename": "RInterpreterError",
     "evalue": "Failed to parse and evaluate line 'suppressPackageStartupMessages({\\n    library(WGCNA)\\n    library(Matrix)\\n    library(viridis)\\n    library(harmony)\\n    library(ggpubr)\\n    library(tictoc)\\n    library(RColorBrewer)\\n    library(Hmisc)\\n    library(corrplot)\\n    library(grid)\\n    library(gridExtra)\\n    library(igraph)\\n    library(ggrepel)\\n    library(conflicted)\\n    library(readxl)\\n\\n    library(scHumanNet)\\n    library(ACTIONet)\\n    library(SCINET)\\n    library(purrr)\\n\\n\\n\\n    # single-cell analysis package\\n    library(Seurat)\\n    library(monocle3)\\n    library(SeuratWrappers)\\n\\n    # plotting and data science packages\\n    library(tidyverse)\\n    library(cowplot)\\n    library(patchwork)\\n\\n    # co-expression network analysis packages:\\n    library(WGCNA)\\n    library(hdWGCNA)\\n\\n    # gene enrichment packages\\n    library(enrichR)\\n    library(GeneOverlap)\\n\\n\\n    library(GSEABase)\\n    library(GSVA) \\n# needs to be run every time you start R and want to use %>%\\n})\\n\\n# using the cowplot theme for ggplot\\ntheme_set(theme_cowplot())\\n\\n# set random seed for reproducibility\\nset.seed(12345)\\n\\n# optionally enable multithreading\\n# enableWGCNAThreads(nThreads = 4)\\n'.\nR error message: 'Error in library(package, pos = pos, lib.loc = lib.loc, character.only = TRUE,  : \\n  there is no package called ‘ACTIONet’'",
     "output_type": "error",
     "traceback": [
      "\u001b[0;31m---------------------------------------------------------------------------\u001b[0m",
      "\u001b[0;31mRRuntimeError\u001b[0m                             Traceback (most recent call last)",
      "File \u001b[0;32m~/miniconda3/envs/scRNA_seq_meta_analysis/lib/python3.10/site-packages/rpy2/ipython/rmagic.py:401\u001b[0m, in \u001b[0;36mRMagics.eval\u001b[0;34m(self, code)\u001b[0m\n\u001b[1;32m    400\u001b[0m     r_expr \u001b[39m=\u001b[39m ri\u001b[39m.\u001b[39mparse(code)\n\u001b[0;32m--> 401\u001b[0m     value, visible \u001b[39m=\u001b[39m ri\u001b[39m.\u001b[39;49mevalr_expr_with_visible(\n\u001b[1;32m    402\u001b[0m         r_expr\n\u001b[1;32m    403\u001b[0m     )\n\u001b[1;32m    404\u001b[0m \u001b[39mexcept\u001b[39;00m (ri\u001b[39m.\u001b[39membedded\u001b[39m.\u001b[39mRRuntimeError, \u001b[39mValueError\u001b[39;00m) \u001b[39mas\u001b[39;00m exception:\n\u001b[1;32m    405\u001b[0m     \u001b[39m# Otherwise next return seems to have copy of error.\u001b[39;00m\n",
      "File \u001b[0;32m~/miniconda3/envs/scRNA_seq_meta_analysis/lib/python3.10/site-packages/rpy2/rinterface.py:183\u001b[0m, in \u001b[0;36mevalr_expr_with_visible\u001b[0;34m(expr, envir)\u001b[0m\n\u001b[1;32m    182\u001b[0m \u001b[39mif\u001b[39;00m error_occured[\u001b[39m0\u001b[39m]:\n\u001b[0;32m--> 183\u001b[0m     \u001b[39mraise\u001b[39;00m embedded\u001b[39m.\u001b[39mRRuntimeError(_rinterface\u001b[39m.\u001b[39m_geterrmessage())\n\u001b[1;32m    184\u001b[0m res \u001b[39m=\u001b[39m conversion\u001b[39m.\u001b[39m_cdata_to_rinterface(r_res)\n",
      "\u001b[0;31mRRuntimeError\u001b[0m: Error in library(package, pos = pos, lib.loc = lib.loc, character.only = TRUE,  : \n  there is no package called ‘ACTIONet’\n",
      "\nDuring handling of the above exception, another exception occurred:\n",
      "\u001b[0;31mRInterpreterError\u001b[0m                         Traceback (most recent call last)",
      "Cell \u001b[0;32mIn[5], line 1\u001b[0m\n\u001b[0;32m----> 1\u001b[0m get_ipython()\u001b[39m.\u001b[39;49mrun_cell_magic(\u001b[39m'\u001b[39;49m\u001b[39mR\u001b[39;49m\u001b[39m'\u001b[39;49m, \u001b[39m'\u001b[39;49m\u001b[39m'\u001b[39;49m, \u001b[39m'\u001b[39;49m\u001b[39msuppressPackageStartupMessages(\u001b[39;49m\u001b[39m{\u001b[39;49m\u001b[39m\\n\u001b[39;49;00m\u001b[39m    library(WGCNA)\u001b[39;49m\u001b[39m\\n\u001b[39;49;00m\u001b[39m    library(Matrix)\u001b[39;49m\u001b[39m\\n\u001b[39;49;00m\u001b[39m    library(viridis)\u001b[39;49m\u001b[39m\\n\u001b[39;49;00m\u001b[39m    library(harmony)\u001b[39;49m\u001b[39m\\n\u001b[39;49;00m\u001b[39m    library(ggpubr)\u001b[39;49m\u001b[39m\\n\u001b[39;49;00m\u001b[39m    library(tictoc)\u001b[39;49m\u001b[39m\\n\u001b[39;49;00m\u001b[39m    library(RColorBrewer)\u001b[39;49m\u001b[39m\\n\u001b[39;49;00m\u001b[39m    library(Hmisc)\u001b[39;49m\u001b[39m\\n\u001b[39;49;00m\u001b[39m    library(corrplot)\u001b[39;49m\u001b[39m\\n\u001b[39;49;00m\u001b[39m    library(grid)\u001b[39;49m\u001b[39m\\n\u001b[39;49;00m\u001b[39m    library(gridExtra)\u001b[39;49m\u001b[39m\\n\u001b[39;49;00m\u001b[39m    library(igraph)\u001b[39;49m\u001b[39m\\n\u001b[39;49;00m\u001b[39m    library(ggrepel)\u001b[39;49m\u001b[39m\\n\u001b[39;49;00m\u001b[39m    library(conflicted)\u001b[39;49m\u001b[39m\\n\u001b[39;49;00m\u001b[39m    library(readxl)\u001b[39;49m\u001b[39m\\n\u001b[39;49;00m\u001b[39m\\n\u001b[39;49;00m\u001b[39m    library(scHumanNet)\u001b[39;49m\u001b[39m\\n\u001b[39;49;00m\u001b[39m    library(ACTIONet)\u001b[39;49m\u001b[39m\\n\u001b[39;49;00m\u001b[39m    library(SCINET)\u001b[39;49m\u001b[39m\\n\u001b[39;49;00m\u001b[39m    library(purrr)\u001b[39;49m\u001b[39m\\n\u001b[39;49;00m\u001b[39m\\n\u001b[39;49;00m\u001b[39m\\n\u001b[39;49;00m\u001b[39m\\n\u001b[39;49;00m\u001b[39m    # single-cell analysis package\u001b[39;49m\u001b[39m\\n\u001b[39;49;00m\u001b[39m    library(Seurat)\u001b[39;49m\u001b[39m\\n\u001b[39;49;00m\u001b[39m    library(monocle3)\u001b[39;49m\u001b[39m\\n\u001b[39;49;00m\u001b[39m    library(SeuratWrappers)\u001b[39;49m\u001b[39m\\n\u001b[39;49;00m\u001b[39m\\n\u001b[39;49;00m\u001b[39m    # plotting and data science packages\u001b[39;49m\u001b[39m\\n\u001b[39;49;00m\u001b[39m    library(tidyverse)\u001b[39;49m\u001b[39m\\n\u001b[39;49;00m\u001b[39m    library(cowplot)\u001b[39;49m\u001b[39m\\n\u001b[39;49;00m\u001b[39m    library(patchwork)\u001b[39;49m\u001b[39m\\n\u001b[39;49;00m\u001b[39m\\n\u001b[39;49;00m\u001b[39m    # co-expression network analysis packages:\u001b[39;49m\u001b[39m\\n\u001b[39;49;00m\u001b[39m    library(WGCNA)\u001b[39;49m\u001b[39m\\n\u001b[39;49;00m\u001b[39m    library(hdWGCNA)\u001b[39;49m\u001b[39m\\n\u001b[39;49;00m\u001b[39m\\n\u001b[39;49;00m\u001b[39m    # gene enrichment packages\u001b[39;49m\u001b[39m\\n\u001b[39;49;00m\u001b[39m    library(enrichR)\u001b[39;49m\u001b[39m\\n\u001b[39;49;00m\u001b[39m    library(GeneOverlap)\u001b[39;49m\u001b[39m\\n\u001b[39;49;00m\u001b[39m\\n\u001b[39;49;00m\u001b[39m\\n\u001b[39;49;00m\u001b[39m    library(GSEABase)\u001b[39;49m\u001b[39m\\n\u001b[39;49;00m\u001b[39m    library(GSVA) \u001b[39;49m\u001b[39m\\n\u001b[39;49;00m\u001b[39m# needs to be run every time you start R and want to use \u001b[39;49m\u001b[39m%\u001b[39;49m\u001b[39m>\u001b[39;49m\u001b[39m%\u001b[39;49m\u001b[39m\\n\u001b[39;49;00m\u001b[39m})\u001b[39;49m\u001b[39m\\n\u001b[39;49;00m\u001b[39m\\n\u001b[39;49;00m\u001b[39m# using the cowplot theme for ggplot\u001b[39;49m\u001b[39m\\n\u001b[39;49;00m\u001b[39mtheme_set(theme_cowplot())\u001b[39;49m\u001b[39m\\n\u001b[39;49;00m\u001b[39m\\n\u001b[39;49;00m\u001b[39m# set random seed for reproducibility\u001b[39;49m\u001b[39m\\n\u001b[39;49;00m\u001b[39mset.seed(12345)\u001b[39;49m\u001b[39m\\n\u001b[39;49;00m\u001b[39m\\n\u001b[39;49;00m\u001b[39m# optionally enable multithreading\u001b[39;49m\u001b[39m\\n\u001b[39;49;00m\u001b[39m# enableWGCNAThreads(nThreads = 4)\u001b[39;49m\u001b[39m\\n\u001b[39;49;00m\u001b[39m'\u001b[39;49m)\n",
      "File \u001b[0;32m~/miniconda3/envs/scRNA_seq_meta_analysis/lib/python3.10/site-packages/IPython/core/interactiveshell.py:2478\u001b[0m, in \u001b[0;36mInteractiveShell.run_cell_magic\u001b[0;34m(self, magic_name, line, cell)\u001b[0m\n\u001b[1;32m   2476\u001b[0m \u001b[39mwith\u001b[39;00m \u001b[39mself\u001b[39m\u001b[39m.\u001b[39mbuiltin_trap:\n\u001b[1;32m   2477\u001b[0m     args \u001b[39m=\u001b[39m (magic_arg_s, cell)\n\u001b[0;32m-> 2478\u001b[0m     result \u001b[39m=\u001b[39m fn(\u001b[39m*\u001b[39;49margs, \u001b[39m*\u001b[39;49m\u001b[39m*\u001b[39;49mkwargs)\n\u001b[1;32m   2480\u001b[0m \u001b[39m# The code below prevents the output from being displayed\u001b[39;00m\n\u001b[1;32m   2481\u001b[0m \u001b[39m# when using magics with decodator @output_can_be_silenced\u001b[39;00m\n\u001b[1;32m   2482\u001b[0m \u001b[39m# when the last Python token in the expression is a ';'.\u001b[39;00m\n\u001b[1;32m   2483\u001b[0m \u001b[39mif\u001b[39;00m \u001b[39mgetattr\u001b[39m(fn, magic\u001b[39m.\u001b[39mMAGIC_OUTPUT_CAN_BE_SILENCED, \u001b[39mFalse\u001b[39;00m):\n",
      "File \u001b[0;32m~/miniconda3/envs/scRNA_seq_meta_analysis/lib/python3.10/site-packages/rpy2/ipython/rmagic.py:978\u001b[0m, in \u001b[0;36mRMagics.R\u001b[0;34m(self, line, cell, local_ns)\u001b[0m\n\u001b[1;32m    976\u001b[0m     \u001b[39mif\u001b[39;00m \u001b[39mnot\u001b[39;00m e\u001b[39m.\u001b[39mstdout\u001b[39m.\u001b[39mendswith(e\u001b[39m.\u001b[39merr):\n\u001b[1;32m    977\u001b[0m         \u001b[39mprint\u001b[39m(e\u001b[39m.\u001b[39merr)\n\u001b[0;32m--> 978\u001b[0m     \u001b[39mraise\u001b[39;00m e\n\u001b[1;32m    979\u001b[0m \u001b[39mfinally\u001b[39;00m:\n\u001b[1;32m    980\u001b[0m     \u001b[39mif\u001b[39;00m \u001b[39mself\u001b[39m\u001b[39m.\u001b[39mdevice \u001b[39min\u001b[39;00m DEVICES_STATIC:\n",
      "File \u001b[0;32m~/miniconda3/envs/scRNA_seq_meta_analysis/lib/python3.10/site-packages/rpy2/ipython/rmagic.py:943\u001b[0m, in \u001b[0;36mRMagics.R\u001b[0;34m(self, line, cell, local_ns)\u001b[0m\n\u001b[1;32m    941\u001b[0m         return_output \u001b[39m=\u001b[39m \u001b[39mFalse\u001b[39;00m\n\u001b[1;32m    942\u001b[0m \u001b[39melse\u001b[39;00m:\n\u001b[0;32m--> 943\u001b[0m     text_result, result, visible \u001b[39m=\u001b[39m \u001b[39mself\u001b[39;49m\u001b[39m.\u001b[39;49meval(code)\n\u001b[1;32m    944\u001b[0m     text_output \u001b[39m+\u001b[39m\u001b[39m=\u001b[39m text_result\n\u001b[1;32m    945\u001b[0m     \u001b[39mif\u001b[39;00m visible:\n",
      "File \u001b[0;32m~/miniconda3/envs/scRNA_seq_meta_analysis/lib/python3.10/site-packages/rpy2/ipython/rmagic.py:407\u001b[0m, in \u001b[0;36mRMagics.eval\u001b[0;34m(self, code)\u001b[0m\n\u001b[1;32m    404\u001b[0m \u001b[39mexcept\u001b[39;00m (ri\u001b[39m.\u001b[39membedded\u001b[39m.\u001b[39mRRuntimeError, \u001b[39mValueError\u001b[39;00m) \u001b[39mas\u001b[39;00m exception:\n\u001b[1;32m    405\u001b[0m     \u001b[39m# Otherwise next return seems to have copy of error.\u001b[39;00m\n\u001b[1;32m    406\u001b[0m     warning_or_other_msg \u001b[39m=\u001b[39m \u001b[39mself\u001b[39m\u001b[39m.\u001b[39mflush()\n\u001b[0;32m--> 407\u001b[0m     \u001b[39mraise\u001b[39;00m RInterpreterError(code, \u001b[39mstr\u001b[39m(exception),\n\u001b[1;32m    408\u001b[0m                             warning_or_other_msg)\n\u001b[1;32m    409\u001b[0m \u001b[39mfinally\u001b[39;00m:\n\u001b[1;32m    410\u001b[0m     ro\u001b[39m.\u001b[39m_print_deferred_warnings()\n",
      "\u001b[0;31mRInterpreterError\u001b[0m: Failed to parse and evaluate line 'suppressPackageStartupMessages({\\n    library(WGCNA)\\n    library(Matrix)\\n    library(viridis)\\n    library(harmony)\\n    library(ggpubr)\\n    library(tictoc)\\n    library(RColorBrewer)\\n    library(Hmisc)\\n    library(corrplot)\\n    library(grid)\\n    library(gridExtra)\\n    library(igraph)\\n    library(ggrepel)\\n    library(conflicted)\\n    library(readxl)\\n\\n    library(scHumanNet)\\n    library(ACTIONet)\\n    library(SCINET)\\n    library(purrr)\\n\\n\\n\\n    # single-cell analysis package\\n    library(Seurat)\\n    library(monocle3)\\n    library(SeuratWrappers)\\n\\n    # plotting and data science packages\\n    library(tidyverse)\\n    library(cowplot)\\n    library(patchwork)\\n\\n    # co-expression network analysis packages:\\n    library(WGCNA)\\n    library(hdWGCNA)\\n\\n    # gene enrichment packages\\n    library(enrichR)\\n    library(GeneOverlap)\\n\\n\\n    library(GSEABase)\\n    library(GSVA) \\n# needs to be run every time you start R and want to use %>%\\n})\\n\\n# using the cowplot theme for ggplot\\ntheme_set(theme_cowplot())\\n\\n# set random seed for reproducibility\\nset.seed(12345)\\n\\n# optionally enable multithreading\\n# enableWGCNAThreads(nThreads = 4)\\n'.\nR error message: 'Error in library(package, pos = pos, lib.loc = lib.loc, character.only = TRUE,  : \\n  there is no package called ‘ACTIONet’'"
     ]
    }
   ],
   "source": [
    "%%R\n",
    "suppressPackageStartupMessages({\n",
    "    library(WGCNA)\n",
    "    library(Matrix)\n",
    "    library(viridis)\n",
    "    library(harmony)\n",
    "    library(ggpubr)\n",
    "    library(tictoc)\n",
    "    library(RColorBrewer)\n",
    "    library(Hmisc)\n",
    "    library(corrplot)\n",
    "    library(grid)\n",
    "    library(gridExtra)\n",
    "    library(igraph)\n",
    "    library(ggrepel)\n",
    "    library(conflicted)\n",
    "    library(readxl)\n",
    "\n",
    "    library(scHumanNet)\n",
    "    library(ACTIONet)\n",
    "    library(SCINET)\n",
    "    library(purrr)\n",
    "\n",
    "\n",
    "\n",
    "    # single-cell analysis package\n",
    "    library(Seurat)\n",
    "    library(monocle3)\n",
    "    library(SeuratWrappers)\n",
    "\n",
    "    # plotting and data science packages\n",
    "    library(tidyverse)\n",
    "    library(cowplot)\n",
    "    library(patchwork)\n",
    "\n",
    "    # co-expression network analysis packages:\n",
    "    library(WGCNA)\n",
    "    library(hdWGCNA)\n",
    "\n",
    "    # gene enrichment packages\n",
    "    library(enrichR)\n",
    "    library(GeneOverlap)\n",
    "\n",
    "\n",
    "    library(GSEABase)\n",
    "    library(GSVA) \n",
    "# needs to be run every time you start R and want to use %>%\n",
    "})\n",
    "\n",
    "# using the cowplot theme for ggplot\n",
    "theme_set(theme_cowplot())\n",
    "\n",
    "# set random seed for reproducibility\n",
    "set.seed(12345)\n",
    "\n",
    "# optionally enable multithreading\n",
    "# enableWGCNAThreads(nThreads = 4)"
   ]
  },
  {
   "attachments": {},
   "cell_type": "markdown",
   "id": "af425574",
   "metadata": {},
   "source": [
    "## **Prepare data**\n",
    "\n",
    "Now, we load the preprocessed and annotated data for downstream analysis."
   ]
  },
  {
   "cell_type": "code",
   "execution_count": 5,
   "id": "37a91025",
   "metadata": {},
   "outputs": [],
   "source": [
    "save_prefix = 'leng_etc'\n",
    "\n",
    "query_studies = ['grubman_etc', 'mathys_pfc', 'allen_mca']\n",
    "map_meta = True\n",
    "deg_method =  'DESeq2-Wald'\n",
    "test_names = ['late_vs_early', 'early_vs_no', 'late_vs_no', 'ad_vs_no']\n",
    "filter_genes = \"TRUE\"\n",
    "\n",
    "subject_ids_for_study = {'allen_mtg': 'individualID',\n",
    "                        'leng_sfg': 'PatientID',\n",
    "                        'leng_etc': 'PatientID',\n",
    "                        'seaad_mtg': 'individualID'}\n",
    "subject_id = subject_ids_for_study[save_prefix]     # for leng this is `PatientID` for mathys is 'Subject', and allen is 'individualID'\n",
    "\n",
    "\n",
    "\n",
    "gene_celltype_threshold = 0.10          # determines number of cells the gene must be expressed in \n",
    "covariates = ['None']                   # list of covariates to be accounted for in regression.\n",
    "gene_selection = 'custom'               # specifies the gene selection method when setting up seurat object for WGCNA. The th\n",
    "celltypes = [\"Excitatory\"]  #[\"Excitatory\", \"Inhibitory\", \"Astrocyte\", \"Microglia\", \"Oligodendrocyte\", \"OPC\"]\n",
    "metadata = f'../data/raw/{save_prefix}/{save_prefix}_metadata.csv' \n",
    "meta = pd.read_csv(metadata, encoding_errors='ignore')\n",
    "\n",
    "gene_selection = 'custom'   # specifies the gene selection method when setting up seurat object for WGCNA. The th\n",
    "                            # Posible values are \"custom\", \"fraction\", \"variable\"\n",
    "                            # If custom, a list of genes must be passed.\n",
    "\n",
    "gene_set_select = 'diff_exp'      # If gene_selection = 'custom'. This specifies how to obtain the list of\n",
    "                                  # genes to pass into `SetupForWGCNA`. # The posible values are \"diff_exp\", \"overlap\", \"all\"\n",
    "\n"
   ]
  },
  {
   "cell_type": "markdown",
   "id": "5cea7aa2",
   "metadata": {},
   "source": [
    "# **Reading in the Query data**"
   ]
  },
  {
   "cell_type": "code",
   "execution_count": 6,
   "id": "a267a55e",
   "metadata": {},
   "outputs": [
    {
     "name": "stdout",
     "output_type": "stream",
     "text": [
      "----------------------------\n",
      "Fetching GRUBMAN_ETC data\n",
      "----------------------------\n",
      "AnnData object with n_obs × n_vars = 13214 × 10850\n",
      "    obs: 'sampleID', 'batch', 'patient', 'sex', 'nGene', 'nUMI', 'pctMT', 'cellType', 'batchCond', 'subclustCond', 'subIDm', 'subIDa', 'subIDn', 'subIDo', 'subIDO', 'subIDe', 'subIDu', 'subIDh', 'mg', 'astro', 'neuron', 'oligo', 'OPC', 'endo', 'UMAP1_ALL', 'UMAP2_ALL', 'PC1_ALL', 'PC2_ALL', 'PC3_ALL', 'subclustID', 'UMAP1_ct', 'UMAP2_ct', 'PC1_ct', 'PC2_ct', 'PC3_ct'\n",
      "----------------------------\n",
      "Fetching MATHYS_PFC data\n",
      "----------------------------\n",
      "AnnData object with n_obs × n_vars = 70634 × 17926\n",
      "    obs: 'projid', 'tsne1', 'tsne2', 'pre.cluster', 'broad.cell.type', 'Subcluster', 'fastq', 'Subject', 'sample', 'libraryid', 'study', 'age_death', 'educ', 'msex_x', 'gpath_x', 'amyloid_x', 'plaq_n_x', 'cogdx_x', 'pathologic diagnosis of AD', 'amyloid_y', 'plaq_n_y', 'nft', 'tangles', 'cogn_global_lv', 'gpath_y', 'gpath_3neocort', 'amyloid.group', 'caa_4gp', 'ceradsc', 'braaksc', 'niareagansc', 'cogdx_y', 'msex_y', 'pathology.group', 'sampleid', 'cell_type'\n",
      "----------------------------\n",
      "Fetching ALLEN_MCA data\n",
      "----------------------------\n",
      "AnnData object with n_obs × n_vars = 47432 × 50281\n",
      "    obs: 'exp_component_name', 'specimen_type', 'cluster_color', 'cluster_order', 'cluster_label', 'class_color', 'class_order', 'class_label', 'subclass_color', 'subclass_order', 'subclass_label', 'full_genotype_color', 'full_genotype_order', 'full_genotype_label', 'donor_sex_color', 'donor_sex_order', 'donor_sex_label', 'region_color', 'region_order', 'region_label', 'cortical_layer_color', 'cortical_layer_order', 'cortical_layer_label', 'cell_type_accession_color', 'cell_type_accession_order', 'cell_type_accession_label', 'cell_type_alias_color', 'cell_type_order', 'cell_type_alias_label', 'cell_type_alt_alias_color', 'cell_type_alt_alias_order', 'cell_type_alt_alias_label', 'cell_type_designation_color', 'cell_type_designation_order', 'cell_type_designation_label', 'external_donor_name_color', 'external_donor_name_order', 'external_donor_name_label', 'outlier_call', 'outlier_type'\n",
      "    var: 'chromosome', 'entrez_id', 'gene_name', 'mouse_homologenes'\n"
     ]
    }
   ],
   "source": [
    "adata_query = {}\n",
    "\n",
    "for key in query_studies:\n",
    "    \n",
    "    print('----------------------------')\n",
    "    print(f'Fetching {key.upper()} data')\n",
    "    print('----------------------------')\n",
    "\n",
    "    adata_query[key] = sc.read_h5ad(f'../data/raw/{key}/{key}_raw_anndata.h5ad')\n",
    "    print(adata_query[key])"
   ]
  },
  {
   "cell_type": "code",
   "execution_count": 11,
   "id": "45046260",
   "metadata": {},
   "outputs": [],
   "source": [
    "# send to R instance \n",
    "\n",
    "# convert nested list of Seurat object into Rpy2 object \n",
    "adata_query =  robjects.ListVector(\n",
    "                        {\n",
    "                            study: adata_query[study]\n",
    "                     \n",
    "                            for study in adata_query.keys()\n",
    "                        }\n",
    "                    )"
   ]
  },
  {
   "attachments": {},
   "cell_type": "markdown",
   "id": "0b826349",
   "metadata": {},
   "source": [
    "## **Load Reference Seurat object for Module Preservations**"
   ]
  },
  {
   "cell_type": "code",
   "execution_count": 13,
   "id": "031b3dd6",
   "metadata": {},
   "outputs": [
    {
     "name": "stdout",
     "output_type": "stream",
     "text": [
      "[1] \"Loading data for hdWGCNA Experiment in 'EXCITATORY'\"\n",
      "[1] \"loaded data\"\n"
     ]
    }
   ],
   "source": [
    "%%R -i subject_id -i gene_celltype_threshold -i celltypes -i test_names -i save_prefix -i gene_selection -i gene_set_select -i adata_query -o seurat_obj\n",
    "\n",
    "seurat_obj <- list()\n",
    "\n",
    "for (cell_type in celltypes) {\n",
    "    \n",
    "    print(paste0('Loading data for hdWGCNA Experiment in ', toupper(cell_type)))\n",
    "    tryCatch({\n",
    "        seurat_obj[[cell_type]] <- readRDS(paste0(\"../results/hdWGCNA/SeuratObject/\", save_prefix, '/', cell_type, '_hdWGCNA_object.rds'))\n",
    "        seurat_obj[[cell_type]]@meta.data$pathology.group2 <- ifelse(seurat_obj[[cell_type]]@meta.data$pathology.group != 'no', 'AD', \n",
    "                                                                    seurat_obj[[cell_type]]@meta.data$pathology.group)\n",
    "        print(seurat_obj[[cell_type]])\n",
    "    \n",
    "    }, error = function(e){\n",
    "        NULL\n",
    "    }, message = function(m){\n",
    "        print(paste0('Could not load data for ', toupper(cell_type)))\n",
    "    })\n",
    "}\n",
    "\n",
    "print('loaded data')"
   ]
  },
  {
   "cell_type": "code",
   "execution_count": 14,
   "id": "8c7e8bda",
   "metadata": {},
   "outputs": [],
   "source": [
    "# convert nested list of Seurat object into Rpy2 object \n",
    "seurat_obj =  robjects.ListVector(\n",
    "                        {\n",
    "                            cell_type: seurat_obj[cell_type]\n",
    "                     \n",
    "                            for cell_type in seurat_obj.keys()\n",
    "                        }\n",
    "                    )"
   ]
  },
  {
   "attachments": {},
   "cell_type": "markdown",
   "id": "9b2ac7d7",
   "metadata": {},
   "source": [
    "## **Projecting modules from reference to query**\n",
    "\n",
    "Here, we check whether the co-expresion modules detected in one (`reference`) dataset in external (`query`) datasets. Rather than building a new co-expression network from scratch in a new dataset, we can take the modules from the reference and project them into the query dataset. \n",
    "\n",
    "We project the modules from the reference dataset in each cell-type into the list query datasets provided in the list above. \n",
    "\n",
    "\n",
    "We assume that basic single-cell pipeline has to be done on the query dataset (normalization, scaling, variable features, PCA, batch correction, UMAP, clustering). First we make a UMAP plot to visualize the two datasets to ensure they have both been processed.\n"
   ]
  },
  {
   "cell_type": "code",
   "execution_count": 8,
   "id": "8537d71c",
   "metadata": {},
   "outputs": [
    {
     "name": "stdout",
     "output_type": "stream",
     "text": [
      "[1] \"Estimating Module Trait Correlations in OPC\"\n"
     ]
    },
    {
     "data": {
      "text/plain": [
       "In addition: Warning messages:\n",
       "1: In ModuleTraitCorrelation(seurat_obj[[cell_type]], traits = cur_traits,  :\n",
       "  Trait Braak is a factor with levels 0, 2, 4, 5, 6. Levels will be converted to numeric IN THIS ORDER for the correlation, is this the expected order?\n",
       "2: In ModuleTraitCorrelation(seurat_obj[[cell_type]], traits = cur_traits,  :\n",
       "  Trait apoe4Status is a factor with levels N, Y. Levels will be converted to numeric IN THIS ORDER for the correlation, is this the expected order?\n",
       "3: In ModuleTraitCorrelation(seurat_obj[[cell_type]], traits = cur_traits,  :\n",
       "  Trait Cognitive.status is a factor with levels No dementia, Dementia. Levels will be converted to numeric IN THIS ORDER for the correlation, is this the expected order?\n",
       "4: In ModuleTraitCorrelation(seurat_obj[[cell_type]], traits = cur_traits,  :\n",
       "  Trait sex_y is a factor with levels female, male. Levels will be converted to numeric IN THIS ORDER for the correlation, is this the expected order?\n"
      ]
     },
     "metadata": {},
     "output_type": "display_data"
    }
   ],
   "source": [
    "%%R -i seurat_obj -o seurat_obj -i ref_levels\n",
    "\n",
    "# ref_levels[['Braak']] <- '0.0'\n",
    "\n",
    "for (cell_type in names(seurat_obj)) {\n",
    "  print(paste0('Estimating Module Trait Correlations in ', toupper(cell_type)))\n",
    "\n",
    "\n",
    "  for (fact in cur_factors){\n",
    "    \n",
    "    seurat_obj[[cell_type]]@meta.data[[fact]] <- as.factor(seurat_obj[[cell_type]]@meta.data[[fact]])\n",
    "\n",
    "    if (fact %in% names(ref_levels)) {\n",
    "      seurat_obj[[cell_type]]@meta.data[[fact]] <- relevel(seurat_obj[[cell_type]]@meta.data[[fact]], ref = ref_levels[[fact]])\n",
    "    }\n",
    "  }\n",
    "\n",
    "  for (numer in cur_numerics){\n",
    "    seurat_obj[[cell_type]]@meta.data[[numer]] <- as.numeric(seurat_obj[[cell_type]]@meta.data[[numer]])\n",
    "  }\n",
    "\n",
    "  # list of traits to correlate\n",
    "  cur_traits <- c(cur_factors, cur_numerics)\n",
    "\n",
    "  seurat_obj[[cell_type]] <- ModuleTraitCorrelation(\n",
    "    seurat_obj[[cell_type]],\n",
    "    traits = cur_traits,\n",
    "    group.by = 'cell_type'\n",
    "  )\n",
    "}"
   ]
  },
  {
   "cell_type": "code",
   "execution_count": 9,
   "id": "db743ad8",
   "metadata": {},
   "outputs": [],
   "source": [
    "# convert nested list of Seurat object into Rpy2 object \n",
    "seurat_obj =  robjects.ListVector(\n",
    "                        {\n",
    "                            cell_type: seurat_obj[cell_type]\n",
    "                     \n",
    "                            for cell_type in seurat_obj.keys()\n",
    "                        }\n",
    "                    )"
   ]
  },
  {
   "attachments": {},
   "cell_type": "markdown",
   "id": "38555106",
   "metadata": {},
   "source": [
    "## **Inspecting the output**"
   ]
  },
  {
   "attachments": {},
   "cell_type": "markdown",
   "id": "311f315f",
   "metadata": {},
   "source": [
    "We can run the function `GetModuleTraitCorrelation` to retrieve the output of this function."
   ]
  },
  {
   "cell_type": "code",
   "execution_count": 10,
   "id": "f4b23841",
   "metadata": {},
   "outputs": [],
   "source": [
    "%%R -i seurat_obj -o seurat_obj -o mt_cor\n",
    "\n",
    "mt_cor <- list()\n",
    "\n",
    "for (cell_type in names(seurat_obj)){\n",
    "\n",
    "  # get the mt-correlation results\n",
    "  mt_cor[[cell_type]] <- GetModuleTraitCorrelation(seurat_obj[[cell_type]])\n",
    "\n",
    "}"
   ]
  },
  {
   "cell_type": "code",
   "execution_count": 11,
   "id": "f416d390",
   "metadata": {},
   "outputs": [],
   "source": [
    "# convert nested list of Seurat object into Rpy2 object \n",
    "seurat_obj =  robjects.ListVector(\n",
    "                        {\n",
    "                            cell_type: seurat_obj[cell_type]\n",
    "                     \n",
    "                            for cell_type in seurat_obj.keys()\n",
    "                        }\n",
    "                    )"
   ]
  },
  {
   "attachments": {},
   "cell_type": "markdown",
   "id": "e00f5d04",
   "metadata": {},
   "source": [
    "## **Plot Correlation Heatmaps**\n",
    "\n",
    "We can plot the results of our correlation analysis using the `PlotModuleTraitCorrelation` function. This function creates a separate heatmap for each of the correlation matrices, and then assembles them into one plot using patchwork."
   ]
  },
  {
   "cell_type": "code",
   "execution_count": 12,
   "id": "eca4578b",
   "metadata": {},
   "outputs": [
    {
     "name": "stdout",
     "output_type": "stream",
     "text": [
      "[conflicted] Will prefer dplyr::select over any other package.\n",
      "[1] \"Plotting module Trait Correlations for OPC\"\n",
      "[1] \"all_cells\"\n",
      "[1] \"Braak\"            \"apoe4Status\"      \"Cognitive.status\" \"sex_y\"           \n",
      "[5] \"pmi\"             \n",
      "[1] \"OPC\"\n",
      "[1] \"Braak\"            \"apoe4Status\"      \"Cognitive.status\" \"sex_y\"           \n",
      "[5] \"pmi\"             \n"
     ]
    }
   ],
   "source": [
    "%%R -i seurat_obj -o seurat_obj\n",
    "\n",
    "conflicts_prefer(dplyr::select)\n",
    "\n",
    "fig_dir = paste0(\"../results/hdWGCNA/ModuleCorrelations/\", save_prefix, '/')\n",
    "if (!dir.exists(fig_dir)) {\n",
    "  dir.create(fig_dir, recursive=TRUE)\n",
    "}\n",
    "\n",
    "for (cell_type in names(seurat_obj)){\n",
    "\n",
    "  print(paste0('Plotting module Trait Correlations for ', toupper(cell_type)))\n",
    "\n",
    "  pdf(paste0(fig_dir, cell_type, '_trait_correlations.pdf'), width=5, height=4)\n",
    "  p <- PlotModuleTraitCorrelation(\n",
    "      seurat_obj[[cell_type]],\n",
    "      label = 'fdr',\n",
    "      label_symbol = 'stars',\n",
    "      text_size = 2,\n",
    "      text_digits = 2,\n",
    "      text_color = 'white',\n",
    "      high_color = 'yellow',\n",
    "      mid_color = 'black',\n",
    "      low_color = 'purple',\n",
    "      plot_max = 0.2,\n",
    "      combine=TRUE\n",
    "    )\n",
    "\n",
    "  print(p)\n",
    "  dev.off()\n",
    "\n",
    "}"
   ]
  },
  {
   "cell_type": "code",
   "execution_count": 13,
   "id": "d00bdc4d",
   "metadata": {},
   "outputs": [],
   "source": [
    "# convert nested list of Seurat object into Rpy2 object \n",
    "seurat_obj =  robjects.ListVector(\n",
    "                        {\n",
    "                            cell_type: seurat_obj[cell_type]\n",
    "                     \n",
    "                            for cell_type in seurat_obj.keys()\n",
    "                        }\n",
    "                    )"
   ]
  },
  {
   "attachments": {},
   "cell_type": "markdown",
   "id": "3bc33b36",
   "metadata": {},
   "source": [
    "# **Save Seurat Object**"
   ]
  },
  {
   "cell_type": "code",
   "execution_count": 14,
   "id": "431d9ac4",
   "metadata": {},
   "outputs": [
    {
     "name": "stdout",
     "output_type": "stream",
     "text": [
      "[1] \"Saving hdWGCNA object in hdWGCNA Experiment for OPC\"\n"
     ]
    }
   ],
   "source": [
    "%%R -i seurat_obj -o seurat_obj\n",
    "\n",
    "dat_dir = paste0(\"../results/hdWGCNA/SeuratObject/\", save_prefix, '/')\n",
    "\n",
    "if (!dir.exists(dat_dir)) {\n",
    "  dir.create(dat_dir, recursive=TRUE)\n",
    "}\n",
    "\n",
    "for (cell_type in names(seurat_obj)){\n",
    "    \n",
    "    print(paste0('Saving hdWGCNA object in hdWGCNA Experiment for ', toupper(cell_type)))\n",
    "\n",
    "    saveRDS(seurat_obj[[cell_type]], file=paste0(dat_dir, cell_type, '_hdWGCNA_object.rds'))\n",
    "\n",
    "}"
   ]
  }
 ],
 "metadata": {
  "kernelspec": {
   "display_name": "scRNA_seq_meta_analysis",
   "language": "python",
   "name": "python3"
  },
  "language_info": {
   "codemirror_mode": {
    "name": "ipython",
    "version": 3
   },
   "file_extension": ".py",
   "mimetype": "text/x-python",
   "name": "python",
   "nbconvert_exporter": "python",
   "pygments_lexer": "ipython3",
   "version": "3.10.6"
  },
  "vscode": {
   "interpreter": {
    "hash": "2f414a000012e1980f5fd1119ed6b9bf8cc73b51e37b52eb52a16ff857effd1c"
   }
  }
 },
 "nbformat": 4,
 "nbformat_minor": 5
}
